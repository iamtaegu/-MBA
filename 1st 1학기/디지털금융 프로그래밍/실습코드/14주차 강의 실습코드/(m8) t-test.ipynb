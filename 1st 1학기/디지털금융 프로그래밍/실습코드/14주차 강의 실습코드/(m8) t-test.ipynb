{
 "cells": [
  {
   "cell_type": "code",
   "execution_count": null,
   "metadata": {},
   "outputs": [],
   "source": [
    "import numpy as np\n",
    "from scipy import stats"
   ]
  },
  {
   "cell_type": "code",
   "execution_count": null,
   "metadata": {},
   "outputs": [],
   "source": [
    "help(stats.norm.rvs)"
   ]
  },
  {
   "cell_type": "code",
   "execution_count": 3,
   "metadata": {},
   "outputs": [],
   "source": [
    "rng = np.random.seed(0)"
   ]
  },
  {
   "cell_type": "code",
   "execution_count": 4,
   "metadata": {},
   "outputs": [
    {
     "data": {
      "text/plain": [
       "array([[ 22.64052346,   9.00157208],\n",
       "       [ 14.78737984,  27.40893199],\n",
       "       [ 23.6755799 ,  -4.7727788 ],\n",
       "       [ 14.50088418,   3.48642792],\n",
       "       [  3.96781148,   9.10598502],\n",
       "       [  6.44043571,  19.54273507],\n",
       "       [ 12.61037725,   6.21675016],\n",
       "       [  9.43863233,   8.33674327],\n",
       "       [ 19.94079073,   2.94841736],\n",
       "       [  8.13067702,  -3.54095739],\n",
       "       [-20.52989816,  11.53618595],\n",
       "       [ 13.64436199,  -2.4216502 ],\n",
       "       [ 27.69754624,  -9.54365675],\n",
       "       [  5.45758517,   3.1281615 ],\n",
       "       [ 20.32779214,  19.6935877 ],\n",
       "       [  6.54947426,   8.7816252 ],\n",
       "       [ -3.87785748, -14.80796468],\n",
       "       [  1.52087851,   6.56348969],\n",
       "       [ 17.30290681,  17.02379849],\n",
       "       [  1.12673183,   1.97697249],\n",
       "       [ -5.48552965,  -9.20017937],\n",
       "       [-12.06270191,  24.50775395],\n",
       "       [ -0.09652182,   0.61925698],\n",
       "       [ -7.5279536 ,  12.77490356],\n",
       "       [-11.13897848,   2.8725972 ],\n",
       "       [ -3.95466561,   8.86902498],\n",
       "       [ -0.10805138,  -6.80632184],\n",
       "       [  4.71817772,   9.28331871],\n",
       "       [  5.66517222,   8.02471898],\n",
       "       [ -1.34322094,   1.37258834],\n",
       "       [ -1.72460448,   1.40446838],\n",
       "       [ -3.13146282, -12.26282602],\n",
       "       [  6.77426142,   0.98219064],\n",
       "       [-11.30198347,   9.62782256],\n",
       "       [ -4.07298364,   5.51945396],\n",
       "       [ 12.29090562,   6.28982911],\n",
       "       [ 16.39400685,  -7.3482582 ],\n",
       "       [  9.02341641,  -1.84810091],\n",
       "       [ -3.70797149,  -0.78849665],\n",
       "       [  1.88447468,   5.56165342],\n",
       "       [ -6.65149841,  14.00826487],\n",
       "       [  9.6566244 , -10.36243686],\n",
       "       [ 19.88252194,  23.95889176],\n",
       "       [ 16.78779571,   3.20075164],\n",
       "       [ -5.70752622,  15.54451727],\n",
       "       [  0.96823053,  17.2244507 ],\n",
       "       [  7.08274978,  14.76639036],\n",
       "       [  8.56366397,  12.06573168],\n",
       "       [  5.10500021,  22.85870494],\n",
       "       [  6.26912093,   9.01989363]])"
      ]
     },
     "execution_count": 4,
     "metadata": {},
     "output_type": "execute_result"
    }
   ],
   "source": [
    "rvs = stats.norm.rvs(loc=5, scale=10, size=(50, 2), random_state=rng)\n",
    "rvs"
   ]
  },
  {
   "cell_type": "code",
   "execution_count": 5,
   "metadata": {},
   "outputs": [
    {
     "data": {
      "text/plain": [
       "Ttest_1sampResult(statistic=array([0.11425283, 0.73157095]), pvalue=array([0.90950425, 0.46791491]))"
      ]
     },
     "execution_count": 5,
     "metadata": {},
     "output_type": "execute_result"
    }
   ],
   "source": [
    "stats.ttest_1samp(rvs, 5.0)"
   ]
  },
  {
   "cell_type": "code",
   "execution_count": 7,
   "metadata": {},
   "outputs": [
    {
     "data": {
      "text/plain": [
       "array([ 22.64052346,   9.00157208,  14.78737984,  27.40893199,\n",
       "        23.6755799 ,  -4.7727788 ,  14.50088418,   3.48642792,\n",
       "         3.96781148,   9.10598502,   6.44043571,  19.54273507,\n",
       "        12.61037725,   6.21675016,   9.43863233,   8.33674327,\n",
       "        19.94079073,   2.94841736,   8.13067702,  -3.54095739,\n",
       "       -20.52989816,  11.53618595,  13.64436199,  -2.4216502 ,\n",
       "        27.69754624,  -9.54365675,   5.45758517,   3.1281615 ,\n",
       "        20.32779214,  19.6935877 ,   6.54947426,   8.7816252 ,\n",
       "        -3.87785748, -14.80796468,   1.52087851,   6.56348969,\n",
       "        17.30290681,  17.02379849,   1.12673183,   1.97697249,\n",
       "        -5.48552965,  -9.20017937, -12.06270191,  24.50775395,\n",
       "        -0.09652182,   0.61925698,  -7.5279536 ,  12.77490356,\n",
       "       -11.13897848,   2.8725972 ])"
      ]
     },
     "execution_count": 7,
     "metadata": {},
     "output_type": "execute_result"
    }
   ],
   "source": [
    "np.random.seed(0)\n",
    "data = 5 + 10 * np.random.randn(50)\n",
    "data"
   ]
  },
  {
   "cell_type": "code",
   "execution_count": 8,
   "metadata": {},
   "outputs": [
    {
     "data": {
      "text/plain": [
       "Ttest_1sampResult(statistic=0.8741846907094952, pvalue=0.38628221376094174)"
      ]
     },
     "execution_count": 8,
     "metadata": {},
     "output_type": "execute_result"
    }
   ],
   "source": [
    "stats.ttest_1samp(data, 5.0)"
   ]
  },
  {
   "cell_type": "code",
   "execution_count": 9,
   "metadata": {},
   "outputs": [
    {
     "data": {
      "text/plain": [
       "Ttest_1sampResult(statistic=3.9838503723951377, pvalue=0.0002247209087759094)"
      ]
     },
     "execution_count": 9,
     "metadata": {},
     "output_type": "execute_result"
    }
   ],
   "source": [
    "stats.ttest_1samp(data, 0.0)"
   ]
  },
  {
   "cell_type": "code",
   "execution_count": 10,
   "metadata": {},
   "outputs": [
    {
     "data": {
      "text/plain": [
       "6.4055927231309795"
      ]
     },
     "execution_count": 10,
     "metadata": {},
     "output_type": "execute_result"
    }
   ],
   "source": [
    "a = data.mean()\n",
    "a"
   ]
  },
  {
   "cell_type": "code",
   "execution_count": 11,
   "metadata": {},
   "outputs": [
    {
     "data": {
      "text/plain": [
       "1.6078898865069229"
      ]
     },
     "execution_count": 11,
     "metadata": {},
     "output_type": "execute_result"
    }
   ],
   "source": [
    "b = data.std() / np.sqrt(50-1)\n",
    "b"
   ]
  },
  {
   "cell_type": "code",
   "execution_count": 12,
   "metadata": {},
   "outputs": [
    {
     "data": {
      "text/plain": [
       "3.9838503723951373"
      ]
     },
     "execution_count": 12,
     "metadata": {},
     "output_type": "execute_result"
    }
   ],
   "source": [
    "a / b"
   ]
  },
  {
   "cell_type": "code",
   "execution_count": 14,
   "metadata": {},
   "outputs": [
    {
     "data": {
      "text/plain": [
       "0.00022472090877578843"
      ]
     },
     "execution_count": 14,
     "metadata": {},
     "output_type": "execute_result"
    }
   ],
   "source": [
    "(1 - stats.t.cdf(a/b, df=49))*2"
   ]
  },
  {
   "cell_type": "code",
   "execution_count": null,
   "metadata": {},
   "outputs": [],
   "source": []
  }
 ],
 "metadata": {
  "kernelspec": {
   "display_name": "Python 3",
   "language": "python",
   "name": "python3"
  },
  "language_info": {
   "codemirror_mode": {
    "name": "ipython",
    "version": 3
   },
   "file_extension": ".py",
   "mimetype": "text/x-python",
   "name": "python",
   "nbconvert_exporter": "python",
   "pygments_lexer": "ipython3",
   "version": "3.8.3"
  }
 },
 "nbformat": 4,
 "nbformat_minor": 4
}
