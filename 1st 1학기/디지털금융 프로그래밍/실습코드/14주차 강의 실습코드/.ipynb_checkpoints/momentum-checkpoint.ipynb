{
 "cells": [
  {
   "cell_type": "code",
   "execution_count": 1,
   "metadata": {},
   "outputs": [],
   "source": [
    "import numpy as np\n",
    "import pandas as pd"
   ]
  },
  {
   "cell_type": "code",
   "execution_count": null,
   "metadata": {},
   "outputs": [],
   "source": [
    "crsp = pd.read_csv('crsp.csv')\n",
    "crsp"
   ]
  },
  {
   "cell_type": "code",
   "execution_count": null,
   "metadata": {},
   "outputs": [],
   "source": [
    "crsp.info()"
   ]
  },
  {
   "cell_type": "code",
   "execution_count": null,
   "metadata": {},
   "outputs": [],
   "source": [
    "crsp['date'] = pd.to_datetime(crsp['date'])\n",
    "crsp.info()"
   ]
  },
  {
   "cell_type": "code",
   "execution_count": null,
   "metadata": {},
   "outputs": [],
   "source": [
    "crsp[crsp['ret'].isnull()]"
   ]
  },
  {
   "cell_type": "code",
   "execution_count": null,
   "metadata": {},
   "outputs": [],
   "source": [
    "crsp['ret'] = crsp['ret'].fillna(0)\n",
    "crsp.info()"
   ]
  },
  {
   "cell_type": "code",
   "execution_count": null,
   "metadata": {},
   "outputs": [],
   "source": [
    "crsp.groupby('date')['permno'].count().plot()"
   ]
  },
  {
   "cell_type": "markdown",
   "metadata": {},
   "source": [
    "## (1) cumret"
   ]
  },
  {
   "cell_type": "code",
   "execution_count": null,
   "metadata": {},
   "outputs": [],
   "source": [
    "J = 6\n",
    "K = 6"
   ]
  },
  {
   "cell_type": "code",
   "execution_count": null,
   "metadata": {},
   "outputs": [],
   "source": [
    "crsp.sort_values(['permno', 'date'], inplace=True, ignore_index=True)\n",
    "crsp.head(15)"
   ]
  },
  {
   "cell_type": "code",
   "execution_count": null,
   "metadata": {
    "scrolled": true
   },
   "outputs": [],
   "source": [
    "crsp['logret'] = np.log(1 + crsp['ret'])\n",
    "crsp"
   ]
  },
  {
   "cell_type": "code",
   "execution_count": null,
   "metadata": {},
   "outputs": [],
   "source": [
    "umd = crsp.groupby('permno')['logret'].rolling(J).sum()\n",
    "umd"
   ]
  },
  {
   "cell_type": "code",
   "execution_count": null,
   "metadata": {},
   "outputs": [],
   "source": [
    "type(umd)"
   ]
  },
  {
   "cell_type": "code",
   "execution_count": null,
   "metadata": {},
   "outputs": [],
   "source": [
    "umd.reset_index()"
   ]
  },
  {
   "cell_type": "code",
   "execution_count": null,
   "metadata": {},
   "outputs": [],
   "source": [
    "crsp = crsp.set_index('date')\n",
    "crsp"
   ]
  },
  {
   "cell_type": "code",
   "execution_count": null,
   "metadata": {},
   "outputs": [],
   "source": [
    "umd = crsp.groupby('permno')['logret'].rolling(J).sum()\n",
    "umd"
   ]
  },
  {
   "cell_type": "code",
   "execution_count": null,
   "metadata": {},
   "outputs": [],
   "source": [
    "umd = umd.reset_index()\n",
    "umd"
   ]
  },
  {
   "cell_type": "code",
   "execution_count": null,
   "metadata": {},
   "outputs": [],
   "source": [
    "umd['cumret'] = np.exp(umd['logret']) - 1\n",
    "umd"
   ]
  },
  {
   "cell_type": "code",
   "execution_count": null,
   "metadata": {},
   "outputs": [],
   "source": [
    "import numpy as np\n",
    "import pandas as pd\n",
    "\n",
    "crsp = pd.read_csv('crsp.csv')\n",
    "crsp['date'] = pd.to_datetime(crsp['date'])\n",
    "crsp['ret'] = crsp['ret'].fillna(0)\n",
    "\n",
    "J = 6\n",
    "K = 6\n",
    "crsp.sort_values(['permno', 'date'], inplace=True, ignore_index=True)\n",
    "crsp['logret'] = np.log(1 + crsp['ret'])\n",
    "crsp = crsp.set_index('date')\n",
    "\n",
    "umd = crsp.groupby('permno')['logret'].rolling(J).sum()\n",
    "umd = umd.reset_index()\n",
    "umd['cumret'] = np.exp(umd['logret']) - 1\n",
    "\n",
    "display(crsp)\n",
    "display(umd)"
   ]
  },
  {
   "cell_type": "markdown",
   "metadata": {},
   "source": [
    "## (2) momentum"
   ]
  },
  {
   "cell_type": "code",
   "execution_count": null,
   "metadata": {},
   "outputs": [],
   "source": [
    "umd.dropna(subset=['cumret'], inplace=True)\n",
    "umd"
   ]
  },
  {
   "cell_type": "code",
   "execution_count": null,
   "metadata": {},
   "outputs": [],
   "source": [
    "umd['momr'] = umd.groupby('date')['cumret'].transform(lambda x: pd.qcut(x, 10, labels=False))\n",
    "umd"
   ]
  },
  {
   "cell_type": "code",
   "execution_count": null,
   "metadata": {},
   "outputs": [],
   "source": [
    "umd['momr'] = umd['momr'] + 1\n",
    "umd"
   ]
  },
  {
   "cell_type": "code",
   "execution_count": null,
   "metadata": {},
   "outputs": [],
   "source": [
    "from pandas.tseries.offsets import *\n",
    "\n",
    "umd['medate'] = umd['date'] + MonthEnd(0)\n",
    "umd"
   ]
  },
  {
   "cell_type": "code",
   "execution_count": null,
   "metadata": {},
   "outputs": [],
   "source": [
    "umd['hdate1'] = umd['medate'] + MonthBegin(1)\n",
    "umd['hdate2'] = umd['medate'] + MonthEnd(K)\n",
    "umd"
   ]
  },
  {
   "cell_type": "code",
   "execution_count": null,
   "metadata": {},
   "outputs": [],
   "source": [
    "umd['form_date'] = umd['date']\n",
    "umd"
   ]
  },
  {
   "cell_type": "code",
   "execution_count": null,
   "metadata": {},
   "outputs": [],
   "source": [
    "umd = umd[['permno', 'form_date', 'momr', 'hdate1', 'hdate2']]\n",
    "umd"
   ]
  },
  {
   "cell_type": "code",
   "execution_count": null,
   "metadata": {},
   "outputs": [],
   "source": [
    "crsp"
   ]
  },
  {
   "cell_type": "code",
   "execution_count": null,
   "metadata": {},
   "outputs": [],
   "source": [
    "crsp.reset_index(inplace=True)\n",
    "crsp"
   ]
  },
  {
   "cell_type": "code",
   "execution_count": null,
   "metadata": {},
   "outputs": [],
   "source": [
    "crsp = crsp[['permno', 'date', 'ret']]\n",
    "crsp"
   ]
  },
  {
   "cell_type": "code",
   "execution_count": null,
   "metadata": {},
   "outputs": [],
   "source": [
    "crsp.shape[0]"
   ]
  },
  {
   "cell_type": "code",
   "execution_count": null,
   "metadata": {},
   "outputs": [],
   "source": [
    "n = 100000\n",
    "list(range(0, crsp.shape[0], n))"
   ]
  },
  {
   "cell_type": "code",
   "execution_count": null,
   "metadata": {},
   "outputs": [],
   "source": [
    "port = pd.DataFrame()\n",
    "port"
   ]
  },
  {
   "cell_type": "code",
   "execution_count": null,
   "metadata": {},
   "outputs": [],
   "source": [
    "port = pd.DataFrame()\n",
    "n = 100000\n",
    "for i in range(0, crsp.shape[0], n):\n",
    "    tmp = crsp.iloc[i: i+n]\n",
    "    merged = umd.merge(tmp, on=['permno'], how='inner')\n",
    "    merged = merged[(merged['hdate1'] <= merged['date'])\\\n",
    "                   & (merged['date'] <= merged['hdate2'])]\n",
    "    port = pd.concat([port, merged])\n",
    "port"
   ]
  },
  {
   "cell_type": "code",
   "execution_count": null,
   "metadata": {},
   "outputs": [],
   "source": [
    "from pandas.tseries.offsets import *\n",
    "\n",
    "umd.dropna(subset=['cumret'], inplace=True)\n",
    "umd['momr'] = umd.groupby('date')['cumret'].transform(lambda x: pd.qcut(x, 10, labels=False))\n",
    "umd['momr'] = umd['momr'] + 1\n",
    "\n",
    "umd['medate'] = umd['date'] + MonthEnd(0)\n",
    "umd['hdate1'] = umd['medate'] + MonthBegin(1)\n",
    "umd['hdate2'] = umd['medate'] + MonthEnd(K)\n",
    "umd['form_date'] = umd['date']\n",
    "umd = umd[['permno', 'form_date', 'momr', 'hdate1', 'hdate2']]\n",
    "crsp.reset_index(inplace=True)\n",
    "crsp = crsp[['permno', 'date', 'ret']]\n",
    "\n",
    "port = pd.DataFrame()\n",
    "n = 100000\n",
    "for i in range(0, crsp.shape[0], n):\n",
    "    tmp = crsp.iloc[i: i+n]\n",
    "    merged = umd.merge(tmp, on=['permno'], how='inner')\n",
    "    merged = merged[(merged['hdate1'] <= merged['date'])\\\n",
    "                   & (merged['date'] <= merged['hdate2'])]\n",
    "    port = pd.concat([port, merged])\n",
    "port"
   ]
  },
  {
   "cell_type": "code",
   "execution_count": null,
   "metadata": {},
   "outputs": [],
   "source": [
    "port = port.sort_values(by=['date', 'momr', 'form_date', 'permno'])\n",
    "port"
   ]
  },
  {
   "cell_type": "code",
   "execution_count": null,
   "metadata": {},
   "outputs": [],
   "source": [
    "port.groupby(['date', 'momr', 'form_date'])['ret'].mean()"
   ]
  },
  {
   "cell_type": "code",
   "execution_count": null,
   "metadata": {},
   "outputs": [],
   "source": [
    "umd2 = port.groupby(['date', 'momr', 'form_date'])['ret'].mean().reset_index()\n",
    "umd2"
   ]
  },
  {
   "cell_type": "code",
   "execution_count": null,
   "metadata": {},
   "outputs": [],
   "source": [
    "start_year = 1965\n",
    "umd2 = umd2[umd2['date'].dt.year >= start_year]\n",
    "umd2"
   ]
  },
  {
   "cell_type": "code",
   "execution_count": null,
   "metadata": {},
   "outputs": [],
   "source": [
    "300 * 10 * 6"
   ]
  },
  {
   "cell_type": "code",
   "execution_count": null,
   "metadata": {},
   "outputs": [],
   "source": [
    "ewret = umd2.groupby(['date', 'momr'])['ret'].mean().reset_index()\n",
    "ewret"
   ]
  },
  {
   "cell_type": "code",
   "execution_count": null,
   "metadata": {},
   "outputs": [],
   "source": [
    "ewret.rename(columns={'ret': 'ewret'}, inplace=True)\n",
    "ewret"
   ]
  },
  {
   "cell_type": "code",
   "execution_count": null,
   "metadata": {},
   "outputs": [],
   "source": [
    "ewret.groupby(['momr'])['ewret'].describe()"
   ]
  },
  {
   "cell_type": "code",
   "execution_count": null,
   "metadata": {},
   "outputs": [],
   "source": [
    "ewret.groupby(['momr'])['ewret'].describe()[['count', 'mean', 'std']]"
   ]
  },
  {
   "cell_type": "code",
   "execution_count": null,
   "metadata": {},
   "outputs": [],
   "source": [
    "umd2 = port.groupby(['date', 'momr', 'form_date'])['ret'].mean().reset_index()\n",
    "start_year = 1965\n",
    "umd2 = umd2[umd2['date'].dt.year >= start_year]\n",
    "ewret = umd2.groupby(['date', 'momr'])['ret'].mean().reset_index()\n",
    "ewret.rename(columns={'ret': 'ewret'}, inplace=True)\n",
    "ewret.groupby(['momr'])['ewret'].describe()[['count', 'mean', 'std']]"
   ]
  },
  {
   "cell_type": "code",
   "execution_count": null,
   "metadata": {},
   "outputs": [],
   "source": [
    "ewret"
   ]
  },
  {
   "cell_type": "code",
   "execution_count": null,
   "metadata": {},
   "outputs": [],
   "source": [
    "ewret2 = ewret.pivot(index='date', columns='momr', values='ewret')\n",
    "ewret2"
   ]
  },
  {
   "cell_type": "code",
   "execution_count": null,
   "metadata": {},
   "outputs": [],
   "source": [
    "ewret2 = ewret2.add_prefix('port')\n",
    "ewret2"
   ]
  },
  {
   "cell_type": "code",
   "execution_count": null,
   "metadata": {},
   "outputs": [],
   "source": [
    "ewret2 = ewret2.rename(columns={'port1.0':'losers', 'port10.0':'winners'})\n",
    "ewret2"
   ]
  },
  {
   "cell_type": "code",
   "execution_count": null,
   "metadata": {},
   "outputs": [],
   "source": [
    "ewret2['long_short'] = ewret2['winners'] - ewret2['losers']\n",
    "ewret2"
   ]
  },
  {
   "cell_type": "code",
   "execution_count": null,
   "metadata": {},
   "outputs": [],
   "source": [
    "mom_mean = ewret2[['winners', 'losers', 'long_short']].mean().to_frame()\n",
    "mom_mean"
   ]
  },
  {
   "cell_type": "code",
   "execution_count": null,
   "metadata": {},
   "outputs": [],
   "source": [
    "mom_mean = mom_mean.rename(columns={0:'mean'}).reset_index()\n",
    "mom_mean"
   ]
  },
  {
   "cell_type": "code",
   "execution_count": null,
   "metadata": {},
   "outputs": [],
   "source": [
    "ewret2['losers']"
   ]
  },
  {
   "cell_type": "code",
   "execution_count": null,
   "metadata": {},
   "outputs": [],
   "source": [
    "from scipy import stats\n",
    "\n",
    "t_losers = pd.Series(stats.ttest_1samp(ewret2['losers'], 0.0)).to_frame().T\n",
    "t_winners = pd.Series(stats.ttest_1samp(ewret2['winners'], 0.0)).to_frame().T\n",
    "t_long_short = pd.Series(stats.ttest_1samp(ewret2['long_short'], 0.0)).to_frame().T\n",
    "t_output = pd.concat([t_winners, t_losers, t_long_short])\\\n",
    "            .rename(columns={0:'t-stat', 1:'p-value'})\n",
    "t_output['momr'] = ['winners', 'losers', 'long_short']\n",
    "t_output"
   ]
  },
  {
   "cell_type": "code",
   "execution_count": null,
   "metadata": {},
   "outputs": [],
   "source": [
    "help(stats.ttest_1samp)"
   ]
  },
  {
   "cell_type": "code",
   "execution_count": null,
   "metadata": {},
   "outputs": [],
   "source": [
    "mom_mean"
   ]
  },
  {
   "cell_type": "code",
   "execution_count": null,
   "metadata": {},
   "outputs": [],
   "source": [
    "pd.merge(mom_mean, t_output, on=['momr'], how='inner')"
   ]
  },
  {
   "cell_type": "code",
   "execution_count": 9,
   "metadata": {},
   "outputs": [],
   "source": [
    "#from scipy import stats\n",
    "from scipy import *"
   ]
  },
  {
   "cell_type": "code",
   "execution_count": null,
   "metadata": {},
   "outputs": [],
   "source": []
  },
  {
   "cell_type": "code",
   "execution_count": 3,
   "metadata": {},
   "outputs": [
    {
     "ename": "NameError",
     "evalue": "name 'stats' is not defined",
     "output_type": "error",
     "traceback": [
      "\u001b[1;31m---------------------------------------------------------------------------\u001b[0m",
      "\u001b[1;31mNameError\u001b[0m                                 Traceback (most recent call last)",
      "\u001b[1;32m<ipython-input-3-cc9aa76b2aaa>\u001b[0m in \u001b[0;36m<module>\u001b[1;34m()\u001b[0m\n\u001b[0;32m     52\u001b[0m \u001b[0mmom_mean\u001b[0m \u001b[1;33m=\u001b[0m \u001b[0mmom_mean\u001b[0m\u001b[1;33m.\u001b[0m\u001b[0mrename\u001b[0m\u001b[1;33m(\u001b[0m\u001b[0mcolumns\u001b[0m\u001b[1;33m=\u001b[0m\u001b[1;33m{\u001b[0m\u001b[1;36m0\u001b[0m\u001b[1;33m:\u001b[0m\u001b[1;34m'mean'\u001b[0m\u001b[1;33m}\u001b[0m\u001b[1;33m)\u001b[0m\u001b[1;33m.\u001b[0m\u001b[0mreset_index\u001b[0m\u001b[1;33m(\u001b[0m\u001b[1;33m)\u001b[0m\u001b[1;33m\u001b[0m\u001b[0m\n\u001b[0;32m     53\u001b[0m \u001b[1;33m\u001b[0m\u001b[0m\n\u001b[1;32m---> 54\u001b[1;33m \u001b[0mt_losers\u001b[0m \u001b[1;33m=\u001b[0m \u001b[0mpd\u001b[0m\u001b[1;33m.\u001b[0m\u001b[0mSeries\u001b[0m\u001b[1;33m(\u001b[0m\u001b[0mstats\u001b[0m\u001b[1;33m.\u001b[0m\u001b[0mttest_1samp\u001b[0m\u001b[1;33m(\u001b[0m\u001b[0mewret2\u001b[0m\u001b[1;33m[\u001b[0m\u001b[1;34m'losers'\u001b[0m\u001b[1;33m]\u001b[0m\u001b[1;33m,\u001b[0m \u001b[1;36m0.0\u001b[0m\u001b[1;33m)\u001b[0m\u001b[1;33m)\u001b[0m\u001b[1;33m.\u001b[0m\u001b[0mto_frame\u001b[0m\u001b[1;33m(\u001b[0m\u001b[1;33m)\u001b[0m\u001b[1;33m.\u001b[0m\u001b[0mT\u001b[0m\u001b[1;33m\u001b[0m\u001b[0m\n\u001b[0m\u001b[0;32m     55\u001b[0m \u001b[0mt_winners\u001b[0m \u001b[1;33m=\u001b[0m \u001b[0mpd\u001b[0m\u001b[1;33m.\u001b[0m\u001b[0mSeries\u001b[0m\u001b[1;33m(\u001b[0m\u001b[0mstats\u001b[0m\u001b[1;33m.\u001b[0m\u001b[0mttest_1samp\u001b[0m\u001b[1;33m(\u001b[0m\u001b[0mewret2\u001b[0m\u001b[1;33m[\u001b[0m\u001b[1;34m'winners'\u001b[0m\u001b[1;33m]\u001b[0m\u001b[1;33m,\u001b[0m \u001b[1;36m0.0\u001b[0m\u001b[1;33m)\u001b[0m\u001b[1;33m)\u001b[0m\u001b[1;33m.\u001b[0m\u001b[0mto_frame\u001b[0m\u001b[1;33m(\u001b[0m\u001b[1;33m)\u001b[0m\u001b[1;33m.\u001b[0m\u001b[0mT\u001b[0m\u001b[1;33m\u001b[0m\u001b[0m\n\u001b[0;32m     56\u001b[0m \u001b[0mt_long_short\u001b[0m \u001b[1;33m=\u001b[0m \u001b[0mpd\u001b[0m\u001b[1;33m.\u001b[0m\u001b[0mSeries\u001b[0m\u001b[1;33m(\u001b[0m\u001b[0mstats\u001b[0m\u001b[1;33m.\u001b[0m\u001b[0mttest_1samp\u001b[0m\u001b[1;33m(\u001b[0m\u001b[0mewret2\u001b[0m\u001b[1;33m[\u001b[0m\u001b[1;34m'long_short'\u001b[0m\u001b[1;33m]\u001b[0m\u001b[1;33m,\u001b[0m \u001b[1;36m0.0\u001b[0m\u001b[1;33m)\u001b[0m\u001b[1;33m)\u001b[0m\u001b[1;33m.\u001b[0m\u001b[0mto_frame\u001b[0m\u001b[1;33m(\u001b[0m\u001b[1;33m)\u001b[0m\u001b[1;33m.\u001b[0m\u001b[0mT\u001b[0m\u001b[1;33m\u001b[0m\u001b[0m\n",
      "\u001b[1;31mNameError\u001b[0m: name 'stats' is not defined"
     ]
    }
   ],
   "source": [
    "import numpy as np\n",
    "import pandas as pd\n",
    "from pandas.tseries.offsets import *\n",
    "\n",
    "crsp = pd.read_csv('crsp.csv')\n",
    "crsp['date'] = pd.to_datetime(crsp['date'])\n",
    "crsp['ret'] = crsp['ret'].fillna(0)\n",
    "\n",
    "J = 6\n",
    "K = 6\n",
    "crsp.sort_values(['permno', 'date'], inplace=True)\n",
    "crsp['logret'] = np.log(1 + crsp['ret'])\n",
    "crsp = crsp.set_index('date')\n",
    "\n",
    "umd = crsp.groupby('permno')['logret'].rolling(J).sum()\n",
    "umd = umd.reset_index()\n",
    "umd['cumret'] = np.exp(umd['logret']) - 1\n",
    "\n",
    "umd.dropna(subset=['cumret'], inplace=True)\n",
    "umd['momr'] = umd.groupby('date')['cumret'].transform(lambda x: pd.qcut(x, 10, labels=False))\n",
    "umd['momr'] = umd['momr'] + 1\n",
    "\n",
    "umd['medate'] = umd['date'] + MonthEnd(0)\n",
    "umd['hdate1'] = umd['medate'] + MonthBegin(1)\n",
    "umd['hdate2'] = umd['medate'] + MonthEnd(K)\n",
    "umd['form_date'] = umd['date']\n",
    "umd = umd[['permno', 'form_date', 'momr', 'hdate1', 'hdate2']]\n",
    "crsp.reset_index(inplace=True)\n",
    "crsp = crsp[['permno', 'date', 'ret']]\n",
    "\n",
    "port = pd.DataFrame()\n",
    "n = 100000\n",
    "for i in range(0, crsp.shape[0], n):\n",
    "    tmp = crsp.iloc[i: i+n]\n",
    "    merged = umd.merge(tmp, on=['permno'], how='inner')\n",
    "    merged = merged[(merged['hdate1'] <= merged['date'])\\\n",
    "                   & (merged['date'] <= merged['hdate2'])]\n",
    "    port = pd.concat([port, merged])\n",
    "\n",
    "umd2 = port.groupby(['date', 'momr', 'form_date'])['ret'].mean().reset_index()\n",
    "start_year = 1965\n",
    "umd2 = umd2[umd2['date'].dt.year >= start_year]\n",
    "ewret = umd2.groupby(['date', 'momr'])['ret'].mean().reset_index()\n",
    "ewret.rename(columns={'ret': 'ewret'}, inplace=True)\n",
    "ewret.groupby(['momr'])['ewret'].describe()[['count', 'mean', 'std']]\n",
    "\n",
    "ewret2 = ewret.pivot(index='date', columns='momr', values='ewret')\n",
    "ewret2 = ewret2.add_prefix('port')\n",
    "ewret2 = ewret2.rename(columns={'port1.0':'losers', 'port10.0':'winners'})\n",
    "ewret2['long_short'] = ewret2['winners'] - ewret2['losers']\n",
    "\n",
    "mom_mean = ewret2[['winners', 'losers', 'long_short']].mean().to_frame()\n",
    "mom_mean = mom_mean.rename(columns={0:'mean'}).reset_index()\n",
    "\n",
    "t_losers = pd.Series(stats.ttest_1samp(ewret2['losers'], 0.0)).to_frame().T\n",
    "t_winners = pd.Series(stats.ttest_1samp(ewret2['winners'], 0.0)).to_frame().T\n",
    "t_long_short = pd.Series(stats.ttest_1samp(ewret2['long_short'], 0.0)).to_frame().T\n",
    "t_output = pd.concat([t_winners, t_losers, t_long_short])\\\n",
    "            .rename(columns={0:'t-stat', 1:'p-value'})\n",
    "t_output['momr'] = ['winners', 'losers', 'long_short']\n",
    "pd.merge(mom_mean, t_output, on=['momr'], how='inner')"
   ]
  },
  {
   "cell_type": "code",
   "execution_count": null,
   "metadata": {},
   "outputs": [],
   "source": [
    "p"
   ]
  }
 ],
 "metadata": {
  "kernelspec": {
   "display_name": "Python 3",
   "language": "python",
   "name": "python3"
  },
  "language_info": {
   "codemirror_mode": {
    "name": "ipython",
    "version": 3
   },
   "file_extension": ".py",
   "mimetype": "text/x-python",
   "name": "python",
   "nbconvert_exporter": "python",
   "pygments_lexer": "ipython3",
   "version": "3.6.4"
  }
 },
 "nbformat": 4,
 "nbformat_minor": 4
}
