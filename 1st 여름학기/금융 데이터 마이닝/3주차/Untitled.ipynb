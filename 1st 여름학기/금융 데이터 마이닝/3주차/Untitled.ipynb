{
 "cells": [
  {
   "cell_type": "code",
   "execution_count": 16,
   "id": "9e962352",
   "metadata": {},
   "outputs": [
    {
     "data": {
      "text/html": [
       "<div>\n",
       "<style scoped>\n",
       "    .dataframe tbody tr th:only-of-type {\n",
       "        vertical-align: middle;\n",
       "    }\n",
       "\n",
       "    .dataframe tbody tr th {\n",
       "        vertical-align: top;\n",
       "    }\n",
       "\n",
       "    .dataframe thead th {\n",
       "        text-align: right;\n",
       "    }\n",
       "</style>\n",
       "<table border=\"1\" class=\"dataframe\">\n",
       "  <thead>\n",
       "    <tr style=\"text-align: right;\">\n",
       "      <th></th>\n",
       "      <th>default</th>\n",
       "      <th>student</th>\n",
       "      <th>balance</th>\n",
       "      <th>income</th>\n",
       "    </tr>\n",
       "  </thead>\n",
       "  <tbody>\n",
       "    <tr>\n",
       "      <th>0</th>\n",
       "      <td>Yes</td>\n",
       "      <td>Yes</td>\n",
       "      <td>1486.998122</td>\n",
       "      <td>17854.39703</td>\n",
       "    </tr>\n",
       "    <tr>\n",
       "      <th>1</th>\n",
       "      <td>Yes</td>\n",
       "      <td>Yes</td>\n",
       "      <td>2205.799521</td>\n",
       "      <td>14271.49225</td>\n",
       "    </tr>\n",
       "    <tr>\n",
       "      <th>2</th>\n",
       "      <td>Yes</td>\n",
       "      <td>Yes</td>\n",
       "      <td>1774.694223</td>\n",
       "      <td>20359.50609</td>\n",
       "    </tr>\n",
       "    <tr>\n",
       "      <th>3</th>\n",
       "      <td>Yes</td>\n",
       "      <td>No</td>\n",
       "      <td>1889.599190</td>\n",
       "      <td>48956.17159</td>\n",
       "    </tr>\n",
       "    <tr>\n",
       "      <th>4</th>\n",
       "      <td>Yes</td>\n",
       "      <td>Yes</td>\n",
       "      <td>1899.390626</td>\n",
       "      <td>20655.20000</td>\n",
       "    </tr>\n",
       "  </tbody>\n",
       "</table>\n",
       "</div>"
      ],
      "text/plain": [
       "  default student      balance       income\n",
       "0     Yes     Yes  1486.998122  17854.39703\n",
       "1     Yes     Yes  2205.799521  14271.49225\n",
       "2     Yes     Yes  1774.694223  20359.50609\n",
       "3     Yes      No  1889.599190  48956.17159\n",
       "4     Yes     Yes  1899.390626  20655.20000"
      ]
     },
     "execution_count": 16,
     "metadata": {},
     "output_type": "execute_result"
    }
   ],
   "source": [
    "import pandas as pd\n",
    "import numpy as np\n",
    "creditcard = pd.read_csv('default.csv')\n",
    "creditcard.head()"
   ]
  },
  {
   "cell_type": "code",
   "execution_count": 17,
   "id": "b2154275",
   "metadata": {},
   "outputs": [
    {
     "data": {
      "text/html": [
       "<div>\n",
       "<style scoped>\n",
       "    .dataframe tbody tr th:only-of-type {\n",
       "        vertical-align: middle;\n",
       "    }\n",
       "\n",
       "    .dataframe tbody tr th {\n",
       "        vertical-align: top;\n",
       "    }\n",
       "\n",
       "    .dataframe thead th {\n",
       "        text-align: right;\n",
       "    }\n",
       "</style>\n",
       "<table border=\"1\" class=\"dataframe\">\n",
       "  <thead>\n",
       "    <tr style=\"text-align: right;\">\n",
       "      <th></th>\n",
       "      <th>default</th>\n",
       "      <th>student</th>\n",
       "      <th>balance</th>\n",
       "      <th>income</th>\n",
       "      <th>defaullt</th>\n",
       "    </tr>\n",
       "  </thead>\n",
       "  <tbody>\n",
       "    <tr>\n",
       "      <th>0</th>\n",
       "      <td>Yes</td>\n",
       "      <td>1</td>\n",
       "      <td>1486.998122</td>\n",
       "      <td>17854.39703</td>\n",
       "      <td>1</td>\n",
       "    </tr>\n",
       "    <tr>\n",
       "      <th>1</th>\n",
       "      <td>Yes</td>\n",
       "      <td>1</td>\n",
       "      <td>2205.799521</td>\n",
       "      <td>14271.49225</td>\n",
       "      <td>1</td>\n",
       "    </tr>\n",
       "    <tr>\n",
       "      <th>2</th>\n",
       "      <td>Yes</td>\n",
       "      <td>1</td>\n",
       "      <td>1774.694223</td>\n",
       "      <td>20359.50609</td>\n",
       "      <td>1</td>\n",
       "    </tr>\n",
       "    <tr>\n",
       "      <th>3</th>\n",
       "      <td>Yes</td>\n",
       "      <td>0</td>\n",
       "      <td>1889.599190</td>\n",
       "      <td>48956.17159</td>\n",
       "      <td>1</td>\n",
       "    </tr>\n",
       "    <tr>\n",
       "      <th>4</th>\n",
       "      <td>Yes</td>\n",
       "      <td>1</td>\n",
       "      <td>1899.390626</td>\n",
       "      <td>20655.20000</td>\n",
       "      <td>1</td>\n",
       "    </tr>\n",
       "  </tbody>\n",
       "</table>\n",
       "</div>"
      ],
      "text/plain": [
       "  default  student      balance       income  defaullt\n",
       "0     Yes        1  1486.998122  17854.39703         1\n",
       "1     Yes        1  2205.799521  14271.49225         1\n",
       "2     Yes        1  1774.694223  20359.50609         1\n",
       "3     Yes        0  1889.599190  48956.17159         1\n",
       "4     Yes        1  1899.390626  20655.20000         1"
      ]
     },
     "execution_count": 17,
     "metadata": {},
     "output_type": "execute_result"
    }
   ],
   "source": [
    "creditcard['defaullt'] = creditcard['default'].map({'Yes' : 1, 'No' : 0})\n",
    "creditcard['student'] = creditcard['student'].map({'Yes':1, 'No':0})\n",
    "creditcard.head()"
   ]
  },
  {
   "cell_type": "code",
   "execution_count": 18,
   "id": "1d95222c",
   "metadata": {},
   "outputs": [
    {
     "data": {
      "text/plain": [
       "No     476\n",
       "Yes    333\n",
       "Name: default, dtype: int64"
      ]
     },
     "execution_count": 18,
     "metadata": {},
     "output_type": "execute_result"
    }
   ],
   "source": [
    "creditcard['default'].value_counts()"
   ]
  },
  {
   "cell_type": "code",
   "execution_count": 12,
   "id": "46fd86fe",
   "metadata": {},
   "outputs": [],
   "source": [
    "from sklearn.preprocessing import StandardScaler\n",
    "from sklearn.model_selection import train_test_split"
   ]
  },
  {
   "cell_type": "markdown",
   "id": "f9dfa625",
   "metadata": {},
   "source": [
    "## StandardScaler - scaling\n",
    "####  - 개별 특성 변수를 평균이 0이고 표준편차가 1인 값으로 표준화를 해줌 "
   ]
  },
  {
   "cell_type": "code",
   "execution_count": 19,
   "id": "345dd158",
   "metadata": {},
   "outputs": [],
   "source": [
    "scaler = StandardScaler()\n",
    "# feature(x)만 scaling 대상이고, y는 0또는1이다\n",
    "creditcard_Xscaled = scaler.fit_transform(creditcard[['student', 'balance', 'income']])\n",
    "X_train, X_test, y_train, y_test = train_test_split(\n",
    "    creditcard_Xscaled,\n",
    "    creditcard['default'],\n",
    "    test_size=0.3, random_state=0)\n"
   ]
  },
  {
   "cell_type": "code",
   "execution_count": 20,
   "id": "a8544d6d",
   "metadata": {},
   "outputs": [
    {
     "data": {
      "text/plain": [
       "array([[-0.38319425,  4.01243062, -0.28954033]])"
      ]
     },
     "execution_count": 20,
     "metadata": {},
     "output_type": "execute_result"
    }
   ],
   "source": [
    "from sklearn.linear_model import LogisticRegression\n",
    "# penalty, 과적합 예방 변수로 11, 12, none이 default dla \n",
    "lr_clf = LogisticRegression( penalty='none')\n",
    "lr_clf.fit(X_train, y_train)\n",
    "lr_clf.coef_"
   ]
  },
  {
   "cell_type": "markdown",
   "id": "e85d358d",
   "metadata": {},
   "source": [
    "### 1) t가 우리가 구한 모델인지\n",
    "### 2) feature들의 오즈비를 구해서 실제로 y값에 영향을 끼치는 변수인지 검토 하는지 \n",
    "### >> cutoff 값을 기준으로 양인지 음인지 판단하고, 모델로 도출된 값에 대한 판단인데, "
   ]
  },
  {
   "cell_type": "code",
   "execution_count": null,
   "id": "444d1c25",
   "metadata": {},
   "outputs": [],
   "source": []
  },
  {
   "cell_type": "code",
   "execution_count": null,
   "id": "9f45e0c3",
   "metadata": {},
   "outputs": [],
   "source": []
  }
 ],
 "metadata": {
  "kernelspec": {
   "display_name": "Python 3 (ipykernel)",
   "language": "python",
   "name": "python3"
  },
  "language_info": {
   "codemirror_mode": {
    "name": "ipython",
    "version": 3
   },
   "file_extension": ".py",
   "mimetype": "text/x-python",
   "name": "python",
   "nbconvert_exporter": "python",
   "pygments_lexer": "ipython3",
   "version": "3.9.12"
  }
 },
 "nbformat": 4,
 "nbformat_minor": 5
}
