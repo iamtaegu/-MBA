{
 "cells": [
  {
   "cell_type": "markdown",
   "metadata": {},
   "source": [
    "# numpy\n",
    "#### Numerical Python\n",
    "\n",
    "#### 벡터 및 행렬 연산에 편리한 기능 제공"
   ]
  },
  {
   "cell_type": "code",
   "execution_count": 1,
   "metadata": {},
   "outputs": [],
   "source": [
    "import numpy as np"
   ]
  },
  {
   "cell_type": "code",
   "execution_count": 7,
   "metadata": {
    "collapsed": true
   },
   "outputs": [
    {
     "name": "stdout",
     "output_type": "stream",
     "text": [
      "<class 'numpy.ndarray'>\n",
      "(3,)\n",
      "3\n"
     ]
    }
   ],
   "source": [
    "a = np.array([1,2,3])\n",
    "print(type(a))\n",
    "print(a.shape)\n",
    "print(len(a))"
   ]
  },
  {
   "cell_type": "code",
   "execution_count": 8,
   "metadata": {
    "collapsed": true
   },
   "outputs": [
    {
     "name": "stdout",
     "output_type": "stream",
     "text": [
      "<class 'numpy.ndarray'>\n",
      "(2, 3)\n",
      "2\n"
     ]
    }
   ],
   "source": [
    "b = np.array([[1, 2, 3], [4, 5, 6]])\n",
    "print(type(b))\n",
    "print(b.shape)\n",
    "print(len(b))"
   ]
  },
  {
   "cell_type": "markdown",
   "metadata": {},
   "source": [
    "### Attributes of array"
   ]
  },
  {
   "cell_type": "code",
   "execution_count": 13,
   "metadata": {
    "collapsed": true
   },
   "outputs": [
    {
     "name": "stdout",
     "output_type": "stream",
     "text": [
      "1\n",
      "3\n",
      "int32\n",
      "4\n",
      "\n",
      "2\n",
      "6\n",
      "int32\n",
      "4\n"
     ]
    }
   ],
   "source": [
    "print(a.ndim)\n",
    "print(a.size)\n",
    "print(a.dtype)\n",
    "print(a.itemsize)\n",
    "print()\n",
    "print(b.ndim)\n",
    "print(b.size)\n",
    "print(b.dtype)\n",
    "print(b.itemsize) # int 4byte"
   ]
  },
  {
   "cell_type": "markdown",
   "metadata": {},
   "source": [
    "### Array creation"
   ]
  },
  {
   "cell_type": "code",
   "execution_count": 30,
   "metadata": {
    "collapsed": true
   },
   "outputs": [
    {
     "name": "stdout",
     "output_type": "stream",
     "text": [
      "[0. 0. 0.]\n",
      "\n",
      "[[0. 0. 0. 0.]\n",
      " [0. 0. 0. 0.]\n",
      " [0. 0. 0. 0.]]\n",
      "\n",
      "[1. 1. 1.]\n",
      "\n",
      "[[1. 1. 1. 1.]\n",
      " [1. 1. 1. 1.]\n",
      " [1. 1. 1. 1.]]\n",
      "\n",
      "[[1. 0. 0. 0. 0.]\n",
      " [0. 1. 0. 0. 0.]\n",
      " [0. 0. 1. 0. 0.]\n",
      " [0. 0. 0. 1. 0.]\n",
      " [0. 0. 0. 0. 1.]]\n",
      "\n",
      "[0 1 2 3 4 5]\n",
      "\n",
      "[0. 1. 2. 3. 4. 5.]\n",
      "\n",
      "[ 2  5  8 11 14 17]\n",
      "\n",
      "[2.  2.1 2.2 2.3 2.4 2.5 2.6 2.7 2.8 2.9 3. ]\n",
      "\n",
      "[[ 0  1  2  3]\n",
      " [ 4  5  6  7]\n",
      " [ 8  9 10 11]]\n",
      "\n",
      "[[ 0  1  2]\n",
      " [ 3  4  5]\n",
      " [ 6  7  8]\n",
      " [ 9 10 11]]\n"
     ]
    }
   ],
   "source": [
    "print(np.zeros(3))\n",
    "print()\n",
    "print(np.zeros((3,4)))\n",
    "print()\n",
    "print(np.ones(3))\n",
    "print()\n",
    "print(np.ones((3,4)))\n",
    "print()\n",
    "print(np.identity(5)) \n",
    "print()\n",
    "print(np.arange(6)) \n",
    "print()\n",
    "print(np.arange(6.0))\n",
    "print()\n",
    "print(np.arange(2, 20, 3)) \n",
    "print()\n",
    "print(np.linspace(2, 3, 11)) \n",
    "print()\n",
    "print(np.arange(12).reshape(3, 4))\n",
    "print()\n",
    "print(np.arange(12).reshape(-1, 3))"
   ]
  },
  {
   "cell_type": "markdown",
   "metadata": {},
   "source": [
    "### Basic operations"
   ]
  },
  {
   "cell_type": "code",
   "execution_count": 36,
   "metadata": {
    "collapsed": true
   },
   "outputs": [
    {
     "name": "stdout",
     "output_type": "stream",
     "text": [
      "[20 30 40 50]\n",
      "[0 1 2 3]\n",
      "---------------\n",
      "[20 29 38 47]\n",
      "[23 33 43 53]\n",
      "[4 5 6]\n",
      "[0.25 0.4  0.5 ]\n",
      "[0 1 4 9]\n",
      "[ True  True False False]\n"
     ]
    }
   ],
   "source": [
    "a = np.array([20, 30, 40, 50])\n",
    "b = np.arange(4)\n",
    "print(a) \n",
    "print(b)\n",
    "print('---------------')\n",
    "print(a-b)\n",
    "print(a+3)\n",
    "print(np.array([1,2,3]) + 3) # [1,2,3] + 3 error\n",
    "print(np.array([1, 2, 3]) / np.array([4, 5, 6])) # [1,2,3] / [4,5,6] error\n",
    "print(b**2)\n",
    "print(a < 35)"
   ]
  },
  {
   "cell_type": "code",
   "execution_count": 50,
   "metadata": {
    "collapsed": true
   },
   "outputs": [
    {
     "name": "stdout",
     "output_type": "stream",
     "text": [
      "[[1 1]\n",
      " [0 1]]\n",
      "[[2 0]\n",
      " [3 4]]\n",
      "[[2 0]\n",
      " [0 4]]\n",
      "[[5 4]\n",
      " [3 4]]\n",
      "[[5 4]\n",
      " [3 4]]\n",
      "\n",
      "Linear algebra\n",
      "[[ 1. -1.]\n",
      " [ 0.  1.]]\n",
      "[[1. 0.]\n",
      " [0. 1.]]\n",
      "[[1 0]\n",
      " [1 1]]\n"
     ]
    }
   ],
   "source": [
    "A = np.array([[1, 1], [0, 1]])\n",
    "B = np.array([[2, 0], [3, 4]])\n",
    "print(A) \n",
    "print(B)\n",
    "print(A*B)\n",
    "print(A@B)\n",
    "print(A.dot(B))\n",
    "print()\n",
    "print('Linear algebra')\n",
    "from numpy.linalg import inv\n",
    "print (inv(A)) # inverse of a matrix.\n",
    "print (A @ inv(A))\n",
    "print(A.T) # np.transpose(A)"
   ]
  },
  {
   "cell_type": "markdown",
   "metadata": {},
   "source": [
    "### np.sum(), np.mean(), np.max(), np.argmax()"
   ]
  },
  {
   "cell_type": "code",
   "execution_count": 55,
   "metadata": {
    "collapsed": true
   },
   "outputs": [
    {
     "name": "stdout",
     "output_type": "stream",
     "text": [
      "[[ 0  1  2  3]\n",
      " [ 4  5  6  7]\n",
      " [ 8  9 10 11]]\n",
      "66\n",
      "[12 15 18 21]\n",
      "[ 6 22 38]\n",
      "5.5\n",
      "[4. 5. 6. 7.]\n",
      "11\n",
      "11\n",
      "[[ 0  2  4  6]\n",
      " [ 8 10 12 14]\n",
      " [16 18 20 22]]\n",
      "22\n",
      "11\n",
      "[2 2 2 2]\n"
     ]
    }
   ],
   "source": [
    "B = np.arange(12).reshape(3, 4)\n",
    "print(B)\n",
    "print(np.sum(B))\n",
    "print(np.sum(B, axis=0))\n",
    "print(np.sum(B, axis=1))\n",
    "print(np.mean(B))\n",
    "print(np.mean(B, axis=0))\n",
    "print(np.max(B))\n",
    "print(np.argmax(B))\n",
    "B = 2 * B\n",
    "print(B)\n",
    "print(np.max(B))\n",
    "print(np.argmax(B)) # return index\n",
    "print(np.argmax(B, axis=0))"
   ]
  },
  {
   "cell_type": "markdown",
   "metadata": {},
   "source": [
    "### np.hstack, np.vstack, np.hsplit"
   ]
  },
  {
   "cell_type": "code",
   "execution_count": 59,
   "metadata": {},
   "outputs": [
    {
     "name": "stdout",
     "output_type": "stream",
     "text": [
      "[[1 2]\n",
      " [3 4]]\n",
      "[[5 6]\n",
      " [7 8]]\n",
      "[[1 2 5 6]\n",
      " [3 4 7 8]]\n",
      "[[1 2]\n",
      " [3 4]\n",
      " [5 6]\n",
      " [7 8]]\n",
      "[[ 0  1  2  3  4  5  6  7]\n",
      " [ 8  9 10 11 12 13 14 15]\n",
      " [16 17 18 19 20 21 22 23]]\n",
      "\n",
      "[array([[ 0,  1,  2,  3],\n",
      "       [ 8,  9, 10, 11],\n",
      "       [16, 17, 18, 19]]), array([[ 4,  5,  6,  7],\n",
      "       [12, 13, 14, 15],\n",
      "       [20, 21, 22, 23]])]\n",
      "\n",
      "[array([[ 0,  1],\n",
      "       [ 8,  9],\n",
      "       [16, 17]]), array([[ 2,  3],\n",
      "       [10, 11],\n",
      "       [18, 19]]), array([[ 4,  5],\n",
      "       [12, 13],\n",
      "       [20, 21]]), array([[ 6,  7],\n",
      "       [14, 15],\n",
      "       [22, 23]])]\n"
     ]
    }
   ],
   "source": [
    "a = np.array([[1, 2], [3, 4]])\n",
    "b = np.array([[5, 6], [7, 8]])\n",
    "print(a)\n",
    "print(b)\n",
    "print(np.hstack((a,b)))\n",
    "print(np.vstack((a,b)))\n",
    "x = np.arange(24).reshape(3, 8)\n",
    "print(x)\n",
    "print()\n",
    "print(np.hsplit(x,2))\n",
    "print()\n",
    "print(np.hsplit(x,4))\n"
   ]
  },
  {
   "cell_type": "code",
   "execution_count": 67,
   "metadata": {},
   "outputs": [
    {
     "name": "stdout",
     "output_type": "stream",
     "text": [
      "[array([[ 0,  1],\n",
      "       [ 3,  4],\n",
      "       [ 6,  7],\n",
      "       [ 9, 10],\n",
      "       [12, 13],\n",
      "       [15, 16],\n",
      "       [18, 19],\n",
      "       [21, 22]]), array([[ 2],\n",
      "       [ 5],\n",
      "       [ 8],\n",
      "       [11],\n",
      "       [14],\n",
      "       [17],\n",
      "       [20],\n",
      "       [23]])]\n",
      "\n",
      "[array([[ 0,  1,  2],\n",
      "       [ 3,  4,  5],\n",
      "       [ 6,  7,  8],\n",
      "       [ 9, 10, 11],\n",
      "       [12, 13, 14],\n",
      "       [15, 16, 17],\n",
      "       [18, 19, 20],\n",
      "       [21, 22, 23]]), array([], shape=(8, 0), dtype=int32), array([], shape=(8, 0), dtype=int32)]\n",
      "\n",
      "[array([[ 0,  1],\n",
      "       [ 3,  4],\n",
      "       [ 6,  7],\n",
      "       [ 9, 10],\n",
      "       [12, 13],\n",
      "       [15, 16],\n",
      "       [18, 19],\n",
      "       [21, 22]]), array([[ 2],\n",
      "       [ 5],\n",
      "       [ 8],\n",
      "       [11],\n",
      "       [14],\n",
      "       [17],\n",
      "       [20],\n",
      "       [23]]), array([], shape=(8, 0), dtype=int32), array([], shape=(8, 0), dtype=int32)]\n",
      "\n",
      "[[ 0  1  2]\n",
      " [ 3  4  5]\n",
      " [ 6  7  8]\n",
      " [ 9 10 11]\n",
      " [12 13 14]\n",
      " [15 16 17]\n",
      " [18 19 20]\n",
      " [21 22 23]]\n",
      "\n",
      "[array([[ 0,  1,  2],\n",
      "       [ 3,  4,  5],\n",
      "       [ 6,  7,  8],\n",
      "       [ 9, 10, 11]]), array([[12, 13, 14],\n",
      "       [15, 16, 17],\n",
      "       [18, 19, 20],\n",
      "       [21, 22, 23]])]\n",
      "\n",
      "[array([[0, 1, 2],\n",
      "       [3, 4, 5]]), array([[ 6,  7,  8],\n",
      "       [ 9, 10, 11]]), array([[12, 13, 14],\n",
      "       [15, 16, 17]]), array([[18, 19, 20],\n",
      "       [21, 22, 23]])]\n",
      "\n",
      "[array([[0, 1, 2],\n",
      "       [3, 4, 5]]), array([[ 6,  7,  8],\n",
      "       [ 9, 10, 11],\n",
      "       [12, 13, 14],\n",
      "       [15, 16, 17],\n",
      "       [18, 19, 20]]), array([[21, 22, 23]])]\n"
     ]
    }
   ],
   "source": [
    "print(np.hsplit(x, np.array([2])))\n",
    "print()\n",
    "print(np.hsplit(x, np.array([3, 6])))\n",
    "print()\n",
    "print(np.hsplit(x, np.array([2, 5, 7])))\n",
    "print()\n",
    "x = np.arange(24).reshape(8, 3)\n",
    "print(x)\n",
    "print()\n",
    "print(np.vsplit(x, 2))\n",
    "print()\n",
    "print(np.vsplit(x, 4))\n",
    "print()\n",
    "print(np.vsplit(x, np.array([2, 7])))"
   ]
  }
 ],
 "metadata": {
  "kernelspec": {
   "display_name": "Python 3",
   "language": "python",
   "name": "python3"
  },
  "language_info": {
   "codemirror_mode": {
    "name": "ipython",
    "version": 3
   },
   "file_extension": ".py",
   "mimetype": "text/x-python",
   "name": "python",
   "nbconvert_exporter": "python",
   "pygments_lexer": "ipython3",
   "version": "3.6.4"
  }
 },
 "nbformat": 4,
 "nbformat_minor": 2
}
