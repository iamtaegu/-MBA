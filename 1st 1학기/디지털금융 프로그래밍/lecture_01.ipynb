{
 "cells": [
  {
   "cell_type": "markdown",
   "id": "7424c594",
   "metadata": {},
   "source": [
    "## function, argument, string"
   ]
  },
  {
   "cell_type": "code",
   "execution_count": 5,
   "id": "e0b6a7d3",
   "metadata": {},
   "outputs": [
    {
     "name": "stdout",
     "output_type": "stream",
     "text": [
      "Hello world!\n"
     ]
    }
   ],
   "source": [
    "print(\"Hello world!\")"
   ]
  },
  {
   "cell_type": "code",
   "execution_count": 6,
   "id": "9036ae83",
   "metadata": {},
   "outputs": [
    {
     "name": "stdout",
     "output_type": "stream",
     "text": [
      "Hello world!\n"
     ]
    }
   ],
   "source": [
    "print('Hello world!')"
   ]
  },
  {
   "cell_type": "markdown",
   "id": "bf2d372c",
   "metadata": {},
   "source": [
    "## variable, value, assignment operator "
   ]
  },
  {
   "cell_type": "code",
   "execution_count": 9,
   "id": "828b09a7",
   "metadata": {},
   "outputs": [],
   "source": [
    "a = 3\n",
    "b = 3.14\n",
    "c = 'abc'\n",
    "d = True\n",
    "e = [1,2,3]\n",
    "f = (1,2,3)\n",
    "g = {1,2,3}\n",
    "h = {'a':2, 'b':3}"
   ]
  },
  {
   "cell_type": "code",
   "execution_count": 13,
   "id": "e6255e16",
   "metadata": {},
   "outputs": [
    {
     "data": {
      "text/plain": [
       "(3, 3.14, 'abc', True, [1, 2, 3], (1, 2, 3), {1, 2, 3}, {'a': 2, 'b': 3})"
      ]
     },
     "execution_count": 13,
     "metadata": {},
     "output_type": "execute_result"
    }
   ],
   "source": [
    "a,b,c,d,e,f,g,h"
   ]
  },
  {
   "cell_type": "code",
   "execution_count": 14,
   "id": "8c291281",
   "metadata": {},
   "outputs": [
    {
     "data": {
      "text/plain": [
       "int"
      ]
     },
     "execution_count": 14,
     "metadata": {},
     "output_type": "execute_result"
    }
   ],
   "source": [
    "type(a) # a 타입"
   ]
  },
  {
   "cell_type": "code",
   "execution_count": 11,
   "id": "23bc8b32",
   "metadata": {},
   "outputs": [
    {
     "data": {
      "text/plain": [
       "2857786567024"
      ]
     },
     "execution_count": 11,
     "metadata": {},
     "output_type": "execute_result"
    }
   ],
   "source": [
    "id(a) # a가 저장된 메모리 주소"
   ]
  },
  {
   "cell_type": "code",
   "execution_count": 12,
   "id": "6a63f052",
   "metadata": {},
   "outputs": [
    {
     "data": {
      "text/plain": [
       "3"
      ]
     },
     "execution_count": 12,
     "metadata": {},
     "output_type": "execute_result"
    }
   ],
   "source": [
    "len(c) # c의 length"
   ]
  },
  {
   "cell_type": "code",
   "execution_count": 16,
   "id": "9d444935",
   "metadata": {},
   "outputs": [
    {
     "data": {
      "text/plain": [
       "3"
      ]
     },
     "execution_count": 16,
     "metadata": {},
     "output_type": "execute_result"
    }
   ],
   "source": [
    "len(e) # element가 3개다"
   ]
  },
  {
   "cell_type": "code",
   "execution_count": 17,
   "id": "2d91d90d",
   "metadata": {},
   "outputs": [
    {
     "data": {
      "text/plain": [
       "6"
      ]
     },
     "execution_count": 17,
     "metadata": {},
     "output_type": "execute_result"
    }
   ],
   "source": [
    "sum(e) # element sum"
   ]
  },
  {
   "cell_type": "code",
   "execution_count": 18,
   "id": "3bf5e656",
   "metadata": {},
   "outputs": [
    {
     "data": {
      "text/plain": [
       "3"
      ]
     },
     "execution_count": 18,
     "metadata": {},
     "output_type": "execute_result"
    }
   ],
   "source": [
    "max(e) # max elemnet"
   ]
  },
  {
   "cell_type": "code",
   "execution_count": 19,
   "id": "d7369fed",
   "metadata": {},
   "outputs": [
    {
     "data": {
      "text/plain": [
       "1"
      ]
     },
     "execution_count": 19,
     "metadata": {},
     "output_type": "execute_result"
    }
   ],
   "source": [
    "min(e) # min element"
   ]
  },
  {
   "cell_type": "code",
   "execution_count": 20,
   "id": "3c0a65c9",
   "metadata": {},
   "outputs": [
    {
     "name": "stdout",
     "output_type": "stream",
     "text": [
      "Tom's car\n"
     ]
    }
   ],
   "source": [
    "print(\"Tom's car\") # 스트링 안에 작은 따옴표는 큰 따옴표로 감싼다"
   ]
  },
  {
   "cell_type": "code",
   "execution_count": 21,
   "id": "2894e018",
   "metadata": {},
   "outputs": [
    {
     "name": "stdout",
     "output_type": "stream",
     "text": [
      "Tom said \"Hello\"\n"
     ]
    }
   ],
   "source": [
    "print('Tom said \"Hello\"') # 큰 따옴표는 작은 따옴표로 감싼다 "
   ]
  },
  {
   "cell_type": "markdown",
   "id": "e10c898c",
   "metadata": {},
   "source": [
    "## title(), upper(), lower() methods"
   ]
  },
  {
   "cell_type": "code",
   "execution_count": 22,
   "id": "808a27c5",
   "metadata": {},
   "outputs": [],
   "source": [
    "name = 'tom cruise'"
   ]
  },
  {
   "cell_type": "code",
   "execution_count": 23,
   "id": "6768831a",
   "metadata": {},
   "outputs": [
    {
     "data": {
      "text/plain": [
       "'tom cruise'"
      ]
     },
     "execution_count": 23,
     "metadata": {},
     "output_type": "execute_result"
    }
   ],
   "source": [
    "name"
   ]
  },
  {
   "cell_type": "code",
   "execution_count": 25,
   "id": "4223634c",
   "metadata": {},
   "outputs": [
    {
     "data": {
      "text/plain": [
       "'Tom Cruise'"
      ]
     },
     "execution_count": 25,
     "metadata": {},
     "output_type": "execute_result"
    }
   ],
   "source": [
    "name.title() # 단어의 첫 char 대문자로 변환"
   ]
  },
  {
   "cell_type": "code",
   "execution_count": 27,
   "id": "759e7855",
   "metadata": {},
   "outputs": [
    {
     "data": {
      "text/plain": [
       "'TOM CRUISE'"
      ]
     },
     "execution_count": 27,
     "metadata": {},
     "output_type": "execute_result"
    }
   ],
   "source": [
    "name.upper() # 대문자로"
   ]
  },
  {
   "cell_type": "code",
   "execution_count": 29,
   "id": "7d5fc270",
   "metadata": {
    "scrolled": true
   },
   "outputs": [
    {
     "data": {
      "text/plain": [
       "['__add__',\n",
       " '__class__',\n",
       " '__contains__',\n",
       " '__delattr__',\n",
       " '__dir__',\n",
       " '__doc__',\n",
       " '__eq__',\n",
       " '__format__',\n",
       " '__ge__',\n",
       " '__getattribute__',\n",
       " '__getitem__',\n",
       " '__getnewargs__',\n",
       " '__gt__',\n",
       " '__hash__',\n",
       " '__init__',\n",
       " '__init_subclass__',\n",
       " '__iter__',\n",
       " '__le__',\n",
       " '__len__',\n",
       " '__lt__',\n",
       " '__mod__',\n",
       " '__mul__',\n",
       " '__ne__',\n",
       " '__new__',\n",
       " '__reduce__',\n",
       " '__reduce_ex__',\n",
       " '__repr__',\n",
       " '__rmod__',\n",
       " '__rmul__',\n",
       " '__setattr__',\n",
       " '__sizeof__',\n",
       " '__str__',\n",
       " '__subclasshook__',\n",
       " 'capitalize',\n",
       " 'casefold',\n",
       " 'center',\n",
       " 'count',\n",
       " 'encode',\n",
       " 'endswith',\n",
       " 'expandtabs',\n",
       " 'find',\n",
       " 'format',\n",
       " 'format_map',\n",
       " 'index',\n",
       " 'isalnum',\n",
       " 'isalpha',\n",
       " 'isascii',\n",
       " 'isdecimal',\n",
       " 'isdigit',\n",
       " 'isidentifier',\n",
       " 'islower',\n",
       " 'isnumeric',\n",
       " 'isprintable',\n",
       " 'isspace',\n",
       " 'istitle',\n",
       " 'isupper',\n",
       " 'join',\n",
       " 'ljust',\n",
       " 'lower',\n",
       " 'lstrip',\n",
       " 'maketrans',\n",
       " 'partition',\n",
       " 'removeprefix',\n",
       " 'removesuffix',\n",
       " 'replace',\n",
       " 'rfind',\n",
       " 'rindex',\n",
       " 'rjust',\n",
       " 'rpartition',\n",
       " 'rsplit',\n",
       " 'rstrip',\n",
       " 'split',\n",
       " 'splitlines',\n",
       " 'startswith',\n",
       " 'strip',\n",
       " 'swapcase',\n",
       " 'title',\n",
       " 'translate',\n",
       " 'upper',\n",
       " 'zfill']"
      ]
     },
     "execution_count": 29,
     "metadata": {},
     "output_type": "execute_result"
    }
   ],
   "source": [
    "dir(name) # argu에 적용할 수 있는 method list"
   ]
  },
  {
   "cell_type": "markdown",
   "id": "4eb13557",
   "metadata": {},
   "source": [
    "## lstrip(), rstrip(), strip() methods"
   ]
  },
  {
   "cell_type": "code",
   "execution_count": 30,
   "id": "e2baee6f",
   "metadata": {},
   "outputs": [],
   "source": [
    "name = '   tom   '"
   ]
  },
  {
   "cell_type": "code",
   "execution_count": 41,
   "id": "e98c98ac",
   "metadata": {},
   "outputs": [
    {
     "data": {
      "text/plain": [
       "'tom'"
      ]
     },
     "execution_count": 41,
     "metadata": {},
     "output_type": "execute_result"
    }
   ],
   "source": [
    "name.strip()"
   ]
  },
  {
   "cell_type": "code",
   "execution_count": 44,
   "id": "ff436c2b",
   "metadata": {},
   "outputs": [
    {
     "name": "stdout",
     "output_type": "stream",
     "text": [
      "Help on built-in function strip:\n",
      "\n",
      "strip(chars=None, /) method of builtins.str instance\n",
      "    Return a copy of the string with leading and trailing whitespace removed.\n",
      "    \n",
      "    If chars is given and not None, remove characters in chars instead.\n",
      "\n"
     ]
    }
   ],
   "source": [
    "help(name.strip) # method description "
   ]
  },
  {
   "cell_type": "markdown",
   "id": "0ae8232f",
   "metadata": {},
   "source": [
    "## string concatenation, f-string"
   ]
  },
  {
   "cell_type": "code",
   "execution_count": 48,
   "id": "b0d33fa3",
   "metadata": {},
   "outputs": [],
   "source": [
    "first_name = 'tom'\n",
    "last_name = 'cruise'"
   ]
  },
  {
   "cell_type": "code",
   "execution_count": 50,
   "id": "cd1cb1bb",
   "metadata": {},
   "outputs": [],
   "source": [
    "full_name = first_name + ' ' + last_name"
   ]
  },
  {
   "cell_type": "code",
   "execution_count": 53,
   "id": "9929abc3",
   "metadata": {},
   "outputs": [
    {
     "name": "stdout",
     "output_type": "stream",
     "text": [
      "Hello, Tom Cruise!\n"
     ]
    }
   ],
   "source": [
    "print('Hello, ' + full_name.title() + '!')"
   ]
  },
  {
   "cell_type": "code",
   "execution_count": 57,
   "id": "e546947f",
   "metadata": {},
   "outputs": [
    {
     "data": {
      "text/plain": [
       "'Hello, Tom Cruise!'"
      ]
     },
     "execution_count": 57,
     "metadata": {},
     "output_type": "execute_result"
    }
   ],
   "source": [
    "f'Hello, {full_name.title()}!' # format string "
   ]
  },
  {
   "cell_type": "markdown",
   "id": "41326d3f",
   "metadata": {},
   "source": [
    "## Arithmetic operator"
   ]
  },
  {
   "cell_type": "code",
   "execution_count": 58,
   "id": "24f33a92",
   "metadata": {},
   "outputs": [
    {
     "data": {
      "text/plain": [
       "7"
      ]
     },
     "execution_count": 58,
     "metadata": {},
     "output_type": "execute_result"
    }
   ],
   "source": [
    "5+2"
   ]
  },
  {
   "cell_type": "code",
   "execution_count": 60,
   "id": "69d2dcdf",
   "metadata": {},
   "outputs": [
    {
     "data": {
      "text/plain": [
       "3"
      ]
     },
     "execution_count": 60,
     "metadata": {},
     "output_type": "execute_result"
    }
   ],
   "source": [
    "5-2"
   ]
  },
  {
   "cell_type": "code",
   "execution_count": 61,
   "id": "5d85e297",
   "metadata": {},
   "outputs": [
    {
     "data": {
      "text/plain": [
       "10"
      ]
     },
     "execution_count": 61,
     "metadata": {},
     "output_type": "execute_result"
    }
   ],
   "source": [
    "5 * 2"
   ]
  },
  {
   "cell_type": "code",
   "execution_count": 62,
   "id": "47c561d2",
   "metadata": {},
   "outputs": [
    {
     "data": {
      "text/plain": [
       "2.5"
      ]
     },
     "execution_count": 62,
     "metadata": {},
     "output_type": "execute_result"
    }
   ],
   "source": [
    "5 / 2"
   ]
  },
  {
   "cell_type": "code",
   "execution_count": 64,
   "id": "4155ebd0",
   "metadata": {},
   "outputs": [
    {
     "data": {
      "text/plain": [
       "25"
      ]
     },
     "execution_count": 64,
     "metadata": {},
     "output_type": "execute_result"
    }
   ],
   "source": [
    "5 ** 2"
   ]
  },
  {
   "cell_type": "code",
   "execution_count": 65,
   "id": "3bab5090",
   "metadata": {},
   "outputs": [
    {
     "data": {
      "text/plain": [
       "2"
      ]
     },
     "execution_count": 65,
     "metadata": {},
     "output_type": "execute_result"
    }
   ],
   "source": [
    "5 // 2 # quotient operator"
   ]
  },
  {
   "cell_type": "code",
   "execution_count": 67,
   "id": "2906c404",
   "metadata": {},
   "outputs": [
    {
     "data": {
      "text/plain": [
       "1"
      ]
     },
     "execution_count": 67,
     "metadata": {},
     "output_type": "execute_result"
    }
   ],
   "source": [
    "5 % 2 # remainder operator"
   ]
  },
  {
   "cell_type": "markdown",
   "id": "ec1c20df",
   "metadata": {},
   "source": [
    "## Comparison operator"
   ]
  },
  {
   "cell_type": "code",
   "execution_count": 68,
   "id": "7f682606",
   "metadata": {},
   "outputs": [
    {
     "data": {
      "text/plain": [
       "True"
      ]
     },
     "execution_count": 68,
     "metadata": {},
     "output_type": "execute_result"
    }
   ],
   "source": [
    "5 > 2 "
   ]
  },
  {
   "cell_type": "code",
   "execution_count": 69,
   "id": "4bc073c7",
   "metadata": {},
   "outputs": [
    {
     "data": {
      "text/plain": [
       "True"
      ]
     },
     "execution_count": 69,
     "metadata": {},
     "output_type": "execute_result"
    }
   ],
   "source": [
    "5 >= 2"
   ]
  },
  {
   "cell_type": "code",
   "execution_count": 71,
   "id": "c9675367",
   "metadata": {},
   "outputs": [
    {
     "data": {
      "text/plain": [
       "False"
      ]
     },
     "execution_count": 71,
     "metadata": {},
     "output_type": "execute_result"
    }
   ],
   "source": [
    "5 < 2 "
   ]
  },
  {
   "cell_type": "code",
   "execution_count": 72,
   "id": "6b1024ca",
   "metadata": {},
   "outputs": [
    {
     "data": {
      "text/plain": [
       "False"
      ]
     },
     "execution_count": 72,
     "metadata": {},
     "output_type": "execute_result"
    }
   ],
   "source": [
    "5 <= 2"
   ]
  },
  {
   "cell_type": "code",
   "execution_count": 73,
   "id": "4855019c",
   "metadata": {},
   "outputs": [
    {
     "data": {
      "text/plain": [
       "False"
      ]
     },
     "execution_count": 73,
     "metadata": {},
     "output_type": "execute_result"
    }
   ],
   "source": [
    "5 == 2"
   ]
  },
  {
   "cell_type": "code",
   "execution_count": 74,
   "id": "054b3a4f",
   "metadata": {},
   "outputs": [
    {
     "data": {
      "text/plain": [
       "True"
      ]
     },
     "execution_count": 74,
     "metadata": {},
     "output_type": "execute_result"
    }
   ],
   "source": [
    "5 != 2"
   ]
  },
  {
   "cell_type": "code",
   "execution_count": 75,
   "id": "78f7d657",
   "metadata": {},
   "outputs": [
    {
     "data": {
      "text/plain": [
       "True"
      ]
     },
     "execution_count": 75,
     "metadata": {},
     "output_type": "execute_result"
    }
   ],
   "source": [
    "'b' > 'a'"
   ]
  },
  {
   "cell_type": "markdown",
   "id": "31ab41e9",
   "metadata": {},
   "source": [
    "## Logical operator"
   ]
  },
  {
   "cell_type": "code",
   "execution_count": 76,
   "id": "9e0735ea",
   "metadata": {},
   "outputs": [
    {
     "data": {
      "text/plain": [
       "True"
      ]
     },
     "execution_count": 76,
     "metadata": {},
     "output_type": "execute_result"
    }
   ],
   "source": [
    "1 == 1 and 5 > 2 "
   ]
  },
  {
   "cell_type": "code",
   "execution_count": 77,
   "id": "14e6da06",
   "metadata": {},
   "outputs": [
    {
     "data": {
      "text/plain": [
       "False"
      ]
     },
     "execution_count": 77,
     "metadata": {},
     "output_type": "execute_result"
    }
   ],
   "source": [
    "1 == 0 and 5 > 2 "
   ]
  },
  {
   "cell_type": "code",
   "execution_count": 78,
   "id": "249fdfdd",
   "metadata": {},
   "outputs": [
    {
     "data": {
      "text/plain": [
       "True"
      ]
     },
     "execution_count": 78,
     "metadata": {},
     "output_type": "execute_result"
    }
   ],
   "source": [
    "1 == 0 or 5 > 2 "
   ]
  },
  {
   "cell_type": "code",
   "execution_count": 79,
   "id": "0a8ff569",
   "metadata": {},
   "outputs": [
    {
     "data": {
      "text/plain": [
       "False"
      ]
     },
     "execution_count": 79,
     "metadata": {},
     "output_type": "execute_result"
    }
   ],
   "source": [
    "not 5 > 2"
   ]
  },
  {
   "cell_type": "code",
   "execution_count": 80,
   "id": "8fb72fc0",
   "metadata": {},
   "outputs": [
    {
     "name": "stdout",
     "output_type": "stream",
     "text": [
      "True\n",
      "False\n",
      "False\n",
      "False\n"
     ]
    }
   ],
   "source": [
    "print(True and True)\n",
    "print(True and False)\n",
    "print(False and True)\n",
    "print(False and False)"
   ]
  },
  {
   "cell_type": "code",
   "execution_count": 82,
   "id": "390c0955",
   "metadata": {},
   "outputs": [
    {
     "name": "stdout",
     "output_type": "stream",
     "text": [
      "True\n",
      "True\n",
      "True\n",
      "False\n"
     ]
    }
   ],
   "source": [
    "print(True or True)\n",
    "print(True or False)\n",
    "print(False or True)\n",
    "print(False or False)"
   ]
  },
  {
   "cell_type": "code",
   "execution_count": null,
   "id": "73aa7a36",
   "metadata": {},
   "outputs": [],
   "source": []
  },
  {
   "cell_type": "code",
   "execution_count": null,
   "id": "ae5b69ac",
   "metadata": {},
   "outputs": [],
   "source": []
  },
  {
   "cell_type": "code",
   "execution_count": null,
   "id": "9f0be177",
   "metadata": {},
   "outputs": [],
   "source": []
  },
  {
   "cell_type": "code",
   "execution_count": null,
   "id": "3aee2dde",
   "metadata": {},
   "outputs": [],
   "source": []
  },
  {
   "cell_type": "code",
   "execution_count": null,
   "id": "f694c947",
   "metadata": {},
   "outputs": [],
   "source": []
  },
  {
   "cell_type": "code",
   "execution_count": null,
   "id": "8456ca21",
   "metadata": {},
   "outputs": [],
   "source": []
  },
  {
   "cell_type": "code",
   "execution_count": null,
   "id": "d641d9ae",
   "metadata": {},
   "outputs": [],
   "source": []
  },
  {
   "cell_type": "code",
   "execution_count": null,
   "id": "6ce0cf6e",
   "metadata": {},
   "outputs": [],
   "source": []
  },
  {
   "cell_type": "code",
   "execution_count": null,
   "id": "51397b23",
   "metadata": {},
   "outputs": [],
   "source": []
  },
  {
   "cell_type": "code",
   "execution_count": null,
   "id": "0c392e37",
   "metadata": {},
   "outputs": [],
   "source": []
  }
 ],
 "metadata": {
  "kernelspec": {
   "display_name": "Python 3 (ipykernel)",
   "language": "python",
   "name": "python3"
  },
  "language_info": {
   "codemirror_mode": {
    "name": "ipython",
    "version": 3
   },
   "file_extension": ".py",
   "mimetype": "text/x-python",
   "name": "python",
   "nbconvert_exporter": "python",
   "pygments_lexer": "ipython3",
   "version": "3.9.6"
  }
 },
 "nbformat": 4,
 "nbformat_minor": 5
}
