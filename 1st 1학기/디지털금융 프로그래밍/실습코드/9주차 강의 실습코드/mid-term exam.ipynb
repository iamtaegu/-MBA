{
 "cells": [
  {
   "cell_type": "code",
   "execution_count": 1,
   "id": "20a2cfa3",
   "metadata": {},
   "outputs": [],
   "source": [
    "import numpy as np\n",
    "import pandas as pd"
   ]
  },
  {
   "cell_type": "code",
   "execution_count": 6,
   "id": "0cccb0be",
   "metadata": {},
   "outputs": [],
   "source": [
    "initial = 1000000\n",
    "rate = 0.08\n",
    "mu = 0.1\n",
    "sigma = 0.4\n",
    "prop = 0.4\n",
    "draw = 100000\n",
    "N = 10\n",
    "M = 1000"
   ]
  },
  {
   "cell_type": "code",
   "execution_count": 8,
   "id": "02ee324d",
   "metadata": {},
   "outputs": [
    {
     "data": {
      "text/plain": [
       "array([0., 0., 0., 0., 0., 0., 0., 0., 0., 0., 0.])"
      ]
     },
     "execution_count": 8,
     "metadata": {},
     "output_type": "execute_result"
    }
   ],
   "source": [
    "W = np.zeros(N+1)\n",
    "W"
   ]
  },
  {
   "cell_type": "code",
   "execution_count": 9,
   "id": "91508a08",
   "metadata": {},
   "outputs": [
    {
     "data": {
      "text/plain": [
       "array([1000000.,       0.,       0.,       0.,       0.,       0.,\n",
       "             0.,       0.,       0.,       0.,       0.])"
      ]
     },
     "execution_count": 9,
     "metadata": {},
     "output_type": "execute_result"
    }
   ],
   "source": [
    "W[0] = initial\n",
    "W"
   ]
  },
  {
   "cell_type": "code",
   "execution_count": 20,
   "id": "690c3b54",
   "metadata": {},
   "outputs": [
    {
     "data": {
      "text/plain": [
       "array([1000000.        , 1374405.42755652, 1448840.92395795,\n",
       "       1713411.29053   , 2723815.83435043, 4011160.50101622,\n",
       "       3606481.17815611, 4389170.99522042, 4430094.95837095,\n",
       "       4505415.85953489, 4986260.59790667])"
      ]
     },
     "execution_count": 20,
     "metadata": {},
     "output_type": "execute_result"
    }
   ],
   "source": [
    "np.random.seed(0)\n",
    "\n",
    "for i in range(N):\n",
    "    S = prop * W[i]\n",
    "    D = W[i] - S\n",
    "    e = np.random.randn()\n",
    "    R = np.exp((mu-0.5*sigma**2) + sigma * e)\n",
    "    W1 = S * R + D * (1 + rate)\n",
    "    W2 = W1 - draw\n",
    "    W[i+1] = W2    \n",
    "W    "
   ]
  },
  {
   "cell_type": "code",
   "execution_count": 23,
   "id": "2e36bcad",
   "metadata": {},
   "outputs": [
    {
     "data": {
      "text/plain": [
       "883"
      ]
     },
     "execution_count": 23,
     "metadata": {},
     "output_type": "execute_result"
    }
   ],
   "source": [
    "success = 0\n",
    "np.random.seed(0)\n",
    "\n",
    "for j in range(M):\n",
    "    for i in range(N):\n",
    "        S = prop * W[i]\n",
    "        D = W[i] - S\n",
    "        e = np.random.randn()\n",
    "        R = np.exp((mu-0.5*sigma**2) + sigma * e)\n",
    "        W1 = S * R + D * (1 + rate)\n",
    "        W2 = W1 - draw\n",
    "        W[i+1] = W2\n",
    "    if W[N] > 0:\n",
    "        success = success + 1\n",
    "success"
   ]
  },
  {
   "cell_type": "code",
   "execution_count": 36,
   "id": "a0275644",
   "metadata": {},
   "outputs": [],
   "source": [
    "def PositiveWealth(initial, rate, mu, sigma, prop, draw, N, M):\n",
    "    W = np.zeros(N+1)\n",
    "    W[0] = initial\n",
    "    \n",
    "    success = 0\n",
    "    np.random.seed(0)\n",
    "\n",
    "    for j in range(M):\n",
    "        for i in range(N):\n",
    "            S = prop * W[i]\n",
    "            D = W[i] - S\n",
    "            e = np.random.randn()\n",
    "            R = np.exp((mu-0.5*sigma**2) + sigma * e)\n",
    "            W1 = S * R + D * (1 + rate)\n",
    "            W2 = W1 - draw\n",
    "            W[i+1] = W2\n",
    "        if W[N] > 0:\n",
    "            success = success + 1\n",
    "    return success/M    "
   ]
  },
  {
   "cell_type": "code",
   "execution_count": 37,
   "id": "a8b38e40",
   "metadata": {},
   "outputs": [
    {
     "data": {
      "text/plain": [
       "0.883"
      ]
     },
     "execution_count": 37,
     "metadata": {},
     "output_type": "execute_result"
    }
   ],
   "source": [
    "initial = 1000000\n",
    "rate = 0.08\n",
    "mu = 0.1\n",
    "sigma = 0.4\n",
    "prop = 0.4\n",
    "draw = 100000\n",
    "N = 10\n",
    "M = 1000\n",
    "\n",
    "PositiveWealth(initial, rate, mu, sigma, prop, draw, N, M)"
   ]
  },
  {
   "cell_type": "code",
   "execution_count": 40,
   "id": "66c375de",
   "metadata": {},
   "outputs": [
    {
     "data": {
      "text/plain": [
       "(994441.3610514565, 155434.24346259222)"
      ]
     },
     "execution_count": 40,
     "metadata": {},
     "output_type": "execute_result"
    }
   ],
   "source": [
    "np.mean(W), np.std(W)"
   ]
  },
  {
   "cell_type": "code",
   "execution_count": 44,
   "id": "93f64891",
   "metadata": {},
   "outputs": [],
   "source": [
    "def WealthWithCushion(initial, rate, mu, sigma, prop, draw, N, M, cushion):\n",
    "    W = np.zeros(N+1)\n",
    "    W[0] = initial\n",
    "    \n",
    "    W3 = np.zeros(M)\n",
    "    np.random.seed(0)\n",
    "\n",
    "    for j in range(M):\n",
    "        for i in range(N):\n",
    "            S = prop * W[i]\n",
    "            D = W[i] - S\n",
    "            e = np.random.randn()\n",
    "            R = np.exp((mu-0.5*sigma**2) + sigma * e)\n",
    "            W1 = S * R + D * np.exp(rate)\n",
    "            if W1 > cushion * draw:\n",
    "                drawdown = draw\n",
    "            else:\n",
    "                drawdown = W1 / cushion\n",
    "            W2 = W1 - drawdown\n",
    "            W[i+1] = W2\n",
    "        W3[j] = W[N]        \n",
    "    return (np.mean(W3), np.std(W3))    "
   ]
  },
  {
   "cell_type": "code",
   "execution_count": 45,
   "id": "881797d0",
   "metadata": {},
   "outputs": [
    {
     "data": {
      "text/plain": [
       "(827856.9187569012, 830144.7983431504)"
      ]
     },
     "execution_count": 45,
     "metadata": {},
     "output_type": "execute_result"
    }
   ],
   "source": [
    "initial = 1000000\n",
    "rate = 0.08\n",
    "mu = 0.1\n",
    "sigma = 0.4\n",
    "prop = 0.4\n",
    "draw = 100000\n",
    "N = 10\n",
    "M = 1000\n",
    "cushion = 3\n",
    "\n",
    "WealthWithCushion(initial, rate, mu, sigma, prop, draw, N, M, cushion)"
   ]
  },
  {
   "cell_type": "code",
   "execution_count": null,
   "id": "87f7e6c0",
   "metadata": {},
   "outputs": [],
   "source": []
  }
 ],
 "metadata": {
  "kernelspec": {
   "display_name": "Python 3 (ipykernel)",
   "language": "python",
   "name": "python3"
  },
  "language_info": {
   "codemirror_mode": {
    "name": "ipython",
    "version": 3
   },
   "file_extension": ".py",
   "mimetype": "text/x-python",
   "name": "python",
   "nbconvert_exporter": "python",
   "pygments_lexer": "ipython3",
   "version": "3.9.7"
  }
 },
 "nbformat": 4,
 "nbformat_minor": 5
}
