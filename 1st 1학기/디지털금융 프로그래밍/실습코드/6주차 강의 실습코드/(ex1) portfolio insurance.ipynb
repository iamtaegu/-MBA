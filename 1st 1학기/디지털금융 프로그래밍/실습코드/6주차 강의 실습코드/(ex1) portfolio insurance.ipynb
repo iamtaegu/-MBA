{
 "cells": [
  {
   "cell_type": "code",
   "execution_count": null,
   "id": "0c47862b",
   "metadata": {},
   "outputs": [],
   "source": [
    "import numpy as np\n",
    "import pandas as pd"
   ]
  },
  {
   "cell_type": "code",
   "execution_count": null,
   "id": "52657bde",
   "metadata": {},
   "outputs": [],
   "source": [
    "pd.read_excel('CPPI.xlsx', sheet_name='CPPI', header=5)"
   ]
  },
  {
   "cell_type": "code",
   "execution_count": null,
   "id": "daddbd44",
   "metadata": {},
   "outputs": [],
   "source": [
    "d = pd.read_excel('CPPI.xlsx', sheet_name=None)\n",
    "d.keys()"
   ]
  },
  {
   "cell_type": "code",
   "execution_count": null,
   "id": "908d5809",
   "metadata": {},
   "outputs": [],
   "source": [
    "type(d)"
   ]
  },
  {
   "cell_type": "code",
   "execution_count": null,
   "id": "df0955d3",
   "metadata": {},
   "outputs": [],
   "source": [
    "d['data']"
   ]
  },
  {
   "cell_type": "code",
   "execution_count": null,
   "id": "d46e30fb",
   "metadata": {},
   "outputs": [],
   "source": [
    "d[list(d.keys())[0]]"
   ]
  },
  {
   "cell_type": "code",
   "execution_count": null,
   "id": "166aebd6",
   "metadata": {},
   "outputs": [],
   "source": [
    "df = pd.read_excel('CPPI.xlsx')\n",
    "df"
   ]
  },
  {
   "cell_type": "code",
   "execution_count": null,
   "id": "13395d08",
   "metadata": {},
   "outputs": [],
   "source": [
    "df['sp500'].plot()"
   ]
  },
  {
   "cell_type": "code",
   "execution_count": null,
   "id": "179d333e",
   "metadata": {},
   "outputs": [],
   "source": [
    "df.plot(x='date', y='sp500')"
   ]
  },
  {
   "cell_type": "code",
   "execution_count": null,
   "id": "c636c0ea",
   "metadata": {},
   "outputs": [],
   "source": [
    "df"
   ]
  },
  {
   "cell_type": "code",
   "execution_count": null,
   "id": "e3af27d8",
   "metadata": {},
   "outputs": [],
   "source": [
    "df['sp500'].pct_change()"
   ]
  },
  {
   "cell_type": "code",
   "execution_count": null,
   "id": "25904676",
   "metadata": {},
   "outputs": [],
   "source": [
    "df['ret'] = df['sp500'].pct_change()\n",
    "df"
   ]
  },
  {
   "cell_type": "code",
   "execution_count": null,
   "id": "ce294565",
   "metadata": {},
   "outputs": [],
   "source": [
    "V = 10000\n",
    "F = 0.85\n",
    "M = 4\n",
    "rate = 0.02 / 12"
   ]
  },
  {
   "cell_type": "code",
   "execution_count": null,
   "id": "ac04695a",
   "metadata": {},
   "outputs": [],
   "source": [
    "df['stock100'] = df['ret'] + 1\n",
    "df"
   ]
  },
  {
   "cell_type": "code",
   "execution_count": null,
   "id": "b174a013",
   "metadata": {},
   "outputs": [],
   "source": [
    "df.loc[0, 'stock100'] = V\n",
    "df"
   ]
  },
  {
   "cell_type": "code",
   "execution_count": null,
   "id": "275626b1",
   "metadata": {},
   "outputs": [],
   "source": [
    "df['stock100']  = df['stock100'].cumprod()\n",
    "df"
   ]
  },
  {
   "cell_type": "code",
   "execution_count": 27,
   "id": "7a7c8432",
   "metadata": {},
   "outputs": [
    {
     "data": {
      "text/html": [
       "<div>\n",
       "<style scoped>\n",
       "    .dataframe tbody tr th:only-of-type {\n",
       "        vertical-align: middle;\n",
       "    }\n",
       "\n",
       "    .dataframe tbody tr th {\n",
       "        vertical-align: top;\n",
       "    }\n",
       "\n",
       "    .dataframe thead th {\n",
       "        text-align: right;\n",
       "    }\n",
       "</style>\n",
       "<table border=\"1\" class=\"dataframe\">\n",
       "  <thead>\n",
       "    <tr style=\"text-align: right;\">\n",
       "      <th></th>\n",
       "      <th>date</th>\n",
       "      <th>sp500</th>\n",
       "      <th>ret</th>\n",
       "      <th>stock100</th>\n",
       "    </tr>\n",
       "  </thead>\n",
       "  <tbody>\n",
       "    <tr>\n",
       "      <th>0</th>\n",
       "      <td>2000-01-31</td>\n",
       "      <td>1394.46</td>\n",
       "      <td>NaN</td>\n",
       "      <td>10000.000000</td>\n",
       "    </tr>\n",
       "    <tr>\n",
       "      <th>1</th>\n",
       "      <td>2000-02-29</td>\n",
       "      <td>1366.42</td>\n",
       "      <td>-0.020108</td>\n",
       "      <td>9798.918578</td>\n",
       "    </tr>\n",
       "    <tr>\n",
       "      <th>2</th>\n",
       "      <td>2000-03-31</td>\n",
       "      <td>1498.58</td>\n",
       "      <td>0.096720</td>\n",
       "      <td>10746.668961</td>\n",
       "    </tr>\n",
       "    <tr>\n",
       "      <th>3</th>\n",
       "      <td>2000-04-28</td>\n",
       "      <td>1452.43</td>\n",
       "      <td>-0.030796</td>\n",
       "      <td>10415.716478</td>\n",
       "    </tr>\n",
       "    <tr>\n",
       "      <th>4</th>\n",
       "      <td>2000-05-31</td>\n",
       "      <td>1420.60</td>\n",
       "      <td>-0.021915</td>\n",
       "      <td>10187.456076</td>\n",
       "    </tr>\n",
       "    <tr>\n",
       "      <th>...</th>\n",
       "      <td>...</td>\n",
       "      <td>...</td>\n",
       "      <td>...</td>\n",
       "      <td>...</td>\n",
       "    </tr>\n",
       "    <tr>\n",
       "      <th>259</th>\n",
       "      <td>2021-08-31</td>\n",
       "      <td>4522.68</td>\n",
       "      <td>0.028990</td>\n",
       "      <td>32433.199948</td>\n",
       "    </tr>\n",
       "    <tr>\n",
       "      <th>260</th>\n",
       "      <td>2021-09-30</td>\n",
       "      <td>4307.54</td>\n",
       "      <td>-0.047569</td>\n",
       "      <td>30890.380506</td>\n",
       "    </tr>\n",
       "    <tr>\n",
       "      <th>261</th>\n",
       "      <td>2021-10-29</td>\n",
       "      <td>4605.38</td>\n",
       "      <td>0.069144</td>\n",
       "      <td>33026.261062</td>\n",
       "    </tr>\n",
       "    <tr>\n",
       "      <th>262</th>\n",
       "      <td>2021-11-30</td>\n",
       "      <td>4567.00</td>\n",
       "      <td>-0.008334</td>\n",
       "      <td>32751.029072</td>\n",
       "    </tr>\n",
       "    <tr>\n",
       "      <th>263</th>\n",
       "      <td>2021-12-31</td>\n",
       "      <td>4766.18</td>\n",
       "      <td>0.043613</td>\n",
       "      <td>34179.395608</td>\n",
       "    </tr>\n",
       "  </tbody>\n",
       "</table>\n",
       "<p>264 rows × 4 columns</p>\n",
       "</div>"
      ],
      "text/plain": [
       "          date    sp500       ret      stock100\n",
       "0   2000-01-31  1394.46       NaN  10000.000000\n",
       "1   2000-02-29  1366.42 -0.020108   9798.918578\n",
       "2   2000-03-31  1498.58  0.096720  10746.668961\n",
       "3   2000-04-28  1452.43 -0.030796  10415.716478\n",
       "4   2000-05-31  1420.60 -0.021915  10187.456076\n",
       "..         ...      ...       ...           ...\n",
       "259 2021-08-31  4522.68  0.028990  32433.199948\n",
       "260 2021-09-30  4307.54 -0.047569  30890.380506\n",
       "261 2021-10-29  4605.38  0.069144  33026.261062\n",
       "262 2021-11-30  4567.00 -0.008334  32751.029072\n",
       "263 2021-12-31  4766.18  0.043613  34179.395608\n",
       "\n",
       "[264 rows x 4 columns]"
      ]
     },
     "execution_count": 27,
     "metadata": {},
     "output_type": "execute_result"
    }
   ],
   "source": [
    "import numpy as np\n",
    "import pandas as pd\n",
    "\n",
    "V = 10000\n",
    "F = 0.85\n",
    "M = 4\n",
    "rate = 0.02 / 12\n",
    "\n",
    "df = pd.read_excel('CPPI.xlsx')\n",
    "df['ret'] = df['sp500'].pct_change()\n",
    "df['stock100'] = df['ret'] + 1\n",
    "df.loc[0, 'stock100'] = V\n",
    "df['stock100']  = df['stock100'].cumprod()\n",
    "df"
   ]
  },
  {
   "cell_type": "code",
   "execution_count": null,
   "id": "9aec5a9f",
   "metadata": {},
   "outputs": [],
   "source": []
  }
 ],
 "metadata": {
  "kernelspec": {
   "display_name": "Python 3 (ipykernel)",
   "language": "python",
   "name": "python3"
  },
  "language_info": {
   "codemirror_mode": {
    "name": "ipython",
    "version": 3
   },
   "file_extension": ".py",
   "mimetype": "text/x-python",
   "name": "python",
   "nbconvert_exporter": "python",
   "pygments_lexer": "ipython3",
   "version": "3.9.7"
  }
 },
 "nbformat": 4,
 "nbformat_minor": 5
}
