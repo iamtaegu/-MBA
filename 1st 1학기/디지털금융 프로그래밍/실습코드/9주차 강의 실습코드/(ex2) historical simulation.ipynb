{
 "cells": [
  {
   "cell_type": "code",
   "execution_count": null,
   "id": "950d1807",
   "metadata": {},
   "outputs": [],
   "source": [
    "import numpy as np\n",
    "import pandas as pd"
   ]
  },
  {
   "cell_type": "code",
   "execution_count": null,
   "id": "8cd5b4ce",
   "metadata": {},
   "outputs": [],
   "source": [
    "df = pd.read_excel('historical simulation.xlsx', header=8)\n",
    "df"
   ]
  },
  {
   "cell_type": "code",
   "execution_count": null,
   "id": "febca536",
   "metadata": {},
   "outputs": [],
   "source": [
    "df.index"
   ]
  },
  {
   "cell_type": "code",
   "execution_count": null,
   "id": "923ce762",
   "metadata": {},
   "outputs": [],
   "source": [
    "df.columns"
   ]
  },
  {
   "cell_type": "code",
   "execution_count": null,
   "id": "d6b09b1b",
   "metadata": {},
   "outputs": [],
   "source": [
    "df['FTSE100($)'] = df['FTSE 100'] * df['USD/GBP']\n",
    "df"
   ]
  },
  {
   "cell_type": "code",
   "execution_count": null,
   "id": "670baff1",
   "metadata": {},
   "outputs": [],
   "source": [
    "df['CAC40($)'] = df['CAC40'] / df['EUR/USD']\n",
    "df"
   ]
  },
  {
   "cell_type": "code",
   "execution_count": null,
   "id": "2f057a5b",
   "metadata": {},
   "outputs": [],
   "source": [
    "df['Nikkei225($)'] = df['Nikkei 225'] / df['JPY/USD']\n",
    "df"
   ]
  },
  {
   "cell_type": "code",
   "execution_count": null,
   "id": "2bb64a21",
   "metadata": {},
   "outputs": [],
   "source": [
    "df"
   ]
  },
  {
   "cell_type": "code",
   "execution_count": null,
   "id": "0b0d6721",
   "metadata": {},
   "outputs": [],
   "source": [
    "del df['FTSE 100'], df['CAC40'], df['Nikkei 225']\n",
    "del df['USD/GBP'], df['EUR/USD'], df['JPY/USD']\n",
    "df"
   ]
  },
  {
   "cell_type": "code",
   "execution_count": null,
   "id": "e29c2e6e",
   "metadata": {},
   "outputs": [],
   "source": [
    "df"
   ]
  },
  {
   "cell_type": "code",
   "execution_count": null,
   "id": "7bb182ba",
   "metadata": {},
   "outputs": [],
   "source": [
    "df = df.set_index(['Day', 'Date'])\n",
    "df"
   ]
  },
  {
   "cell_type": "code",
   "execution_count": null,
   "id": "47c7b0ea",
   "metadata": {},
   "outputs": [],
   "source": [
    "df.index"
   ]
  },
  {
   "cell_type": "code",
   "execution_count": null,
   "id": "f8fdaf9c",
   "metadata": {},
   "outputs": [],
   "source": [
    "df.columns"
   ]
  },
  {
   "cell_type": "code",
   "execution_count": null,
   "id": "67169ec4",
   "metadata": {},
   "outputs": [],
   "source": [
    "df.values"
   ]
  },
  {
   "cell_type": "code",
   "execution_count": null,
   "id": "a4c052d5",
   "metadata": {},
   "outputs": [],
   "source": [
    "df"
   ]
  },
  {
   "cell_type": "code",
   "execution_count": null,
   "id": "ed56f2cc",
   "metadata": {},
   "outputs": [],
   "source": [
    "ret = df.pct_change() + 1\n",
    "ret"
   ]
  },
  {
   "cell_type": "code",
   "execution_count": null,
   "id": "060943d4",
   "metadata": {},
   "outputs": [],
   "source": [
    "ret.drop(index=0, inplace=True)\n",
    "ret"
   ]
  },
  {
   "cell_type": "code",
   "execution_count": null,
   "id": "f1b01926",
   "metadata": {},
   "outputs": [],
   "source": [
    "ret.index = ret.index.droplevel(1)\n",
    "ret"
   ]
  },
  {
   "cell_type": "code",
   "execution_count": null,
   "id": "8a2e6e12",
   "metadata": {},
   "outputs": [],
   "source": [
    "ret.index.name = 'Scenario'"
   ]
  },
  {
   "cell_type": "code",
   "execution_count": null,
   "id": "371b4af2",
   "metadata": {},
   "outputs": [],
   "source": [
    "ret"
   ]
  },
  {
   "cell_type": "code",
   "execution_count": null,
   "id": "33c10617",
   "metadata": {},
   "outputs": [],
   "source": [
    "import numpy as np\n",
    "import pandas as pd\n",
    "\n",
    "df = pd.read_excel('historical simulation.xlsx', header=8)\n",
    "df['FTSE100($)'] = df['FTSE 100'] * df['USD/GBP']\n",
    "df['CAC40($)'] = df['CAC40'] / df['EUR/USD']\n",
    "df['Nikkei225($)'] = df['Nikkei 225'] / df['JPY/USD']\n",
    "\n",
    "del df['FTSE 100'], df['CAC40'], df['Nikkei 225']\n",
    "del df['USD/GBP'], df['EUR/USD'], df['JPY/USD']\n",
    "df = df.set_index(['Day', 'Date'])\n",
    "ret = df.pct_change() + 1\n",
    "ret.drop(index=0, inplace=True)\n",
    "ret.index = ret.index.droplevel(1)\n",
    "ret.index.name = 'Scenario'\n",
    "ret"
   ]
  },
  {
   "cell_type": "code",
   "execution_count": null,
   "id": "9150359a",
   "metadata": {},
   "outputs": [],
   "source": [
    "df"
   ]
  },
  {
   "cell_type": "code",
   "execution_count": null,
   "id": "d5409ee5",
   "metadata": {},
   "outputs": [],
   "source": [
    "price_today = df.iloc[-1]\n",
    "price_today"
   ]
  },
  {
   "cell_type": "code",
   "execution_count": null,
   "id": "fd5d7a17",
   "metadata": {},
   "outputs": [],
   "source": [
    "ret"
   ]
  },
  {
   "cell_type": "code",
   "execution_count": null,
   "id": "a3408463",
   "metadata": {},
   "outputs": [],
   "source": [
    "ret.mul(price_today)"
   ]
  },
  {
   "cell_type": "code",
   "execution_count": null,
   "id": "d53751e9",
   "metadata": {},
   "outputs": [],
   "source": [
    "portfolio = np.array([4000, 3000, 1000, 2000])\n",
    "portfolio"
   ]
  },
  {
   "cell_type": "code",
   "execution_count": null,
   "id": "12d77e55",
   "metadata": {},
   "outputs": [],
   "source": [
    "df = ret * portfolio\n",
    "df"
   ]
  },
  {
   "cell_type": "code",
   "execution_count": null,
   "id": "8ec88d0f",
   "metadata": {},
   "outputs": [],
   "source": [
    "df['portfolio value'] = df.sum(axis=1)\n",
    "df"
   ]
  },
  {
   "cell_type": "code",
   "execution_count": null,
   "id": "0545ce05",
   "metadata": {},
   "outputs": [],
   "source": [
    "df['P/L'] = df['portfolio value'] - 10000\n",
    "df"
   ]
  },
  {
   "cell_type": "code",
   "execution_count": null,
   "id": "206283de",
   "metadata": {},
   "outputs": [],
   "source": [
    "df['P/L(%)'] = df['P/L'] / 10000 * 100\n",
    "df"
   ]
  },
  {
   "cell_type": "code",
   "execution_count": null,
   "id": "c170ef5d",
   "metadata": {},
   "outputs": [],
   "source": [
    "import numpy as np\n",
    "import pandas as pd\n",
    "\n",
    "df = pd.read_excel('historical simulation.xlsx', header=8)\n",
    "df['FTSE100($)'] = df['FTSE 100'] * df['USD/GBP']\n",
    "df['CAC40($)'] = df['CAC40'] / df['EUR/USD']\n",
    "df['Nikkei225($)'] = df['Nikkei 225'] / df['JPY/USD']\n",
    "\n",
    "del df['FTSE 100'], df['CAC40'], df['Nikkei 225']\n",
    "del df['USD/GBP'], df['EUR/USD'], df['JPY/USD']\n",
    "df = df.set_index(['Day', 'Date'])\n",
    "display(df)\n",
    "\n",
    "ret = df.pct_change() + 1\n",
    "ret.drop(index=0, inplace=True)\n",
    "ret.index = ret.index.droplevel(1)\n",
    "ret.index.name = 'Scenario'\n",
    "display(ret)\n",
    "\n",
    "portfolio = np.array([4000, 3000, 1000, 2000])\n",
    "df = ret * portfolio\n",
    "df['portfolio value'] = df.sum(axis=1)\n",
    "df['P/L'] = df['portfolio value'] - 10000\n",
    "df['P/L(%)'] = df['P/L'] / 10000 * 100\n",
    "df"
   ]
  },
  {
   "cell_type": "code",
   "execution_count": null,
   "id": "0213aa6f",
   "metadata": {},
   "outputs": [],
   "source": [
    "df.sort_values(by='P/L')"
   ]
  },
  {
   "cell_type": "code",
   "execution_count": null,
   "id": "4a348163",
   "metadata": {},
   "outputs": [],
   "source": [
    "profit = df.sort_values(by='P/L')['P/L'].values\n",
    "VaR99 = -profit[4]\n",
    "VaR99"
   ]
  },
  {
   "cell_type": "code",
   "execution_count": null,
   "id": "d41e2b06",
   "metadata": {},
   "outputs": [],
   "source": [
    "ES99 = -np.mean(profit[:5])\n",
    "ES99"
   ]
  },
  {
   "cell_type": "code",
   "execution_count": 66,
   "id": "25d86d29",
   "metadata": {},
   "outputs": [
    {
     "data": {
      "text/html": [
       "<div>\n",
       "<style scoped>\n",
       "    .dataframe tbody tr th:only-of-type {\n",
       "        vertical-align: middle;\n",
       "    }\n",
       "\n",
       "    .dataframe tbody tr th {\n",
       "        vertical-align: top;\n",
       "    }\n",
       "\n",
       "    .dataframe thead th {\n",
       "        text-align: right;\n",
       "    }\n",
       "</style>\n",
       "<table border=\"1\" class=\"dataframe\">\n",
       "  <thead>\n",
       "    <tr style=\"text-align: right;\">\n",
       "      <th></th>\n",
       "      <th>S&amp;P500</th>\n",
       "      <th>FTSE100($)</th>\n",
       "      <th>CAC40($)</th>\n",
       "      <th>Nikkei225($)</th>\n",
       "      <th>portfolio value</th>\n",
       "      <th>P/L</th>\n",
       "      <th>P/L(%)</th>\n",
       "    </tr>\n",
       "    <tr>\n",
       "      <th>Scenario</th>\n",
       "      <th></th>\n",
       "      <th></th>\n",
       "      <th></th>\n",
       "      <th></th>\n",
       "      <th></th>\n",
       "      <th></th>\n",
       "      <th></th>\n",
       "    </tr>\n",
       "  </thead>\n",
       "  <tbody>\n",
       "    <tr>\n",
       "      <th>427</th>\n",
       "      <td>3620.34</td>\n",
       "      <td>2663.72</td>\n",
       "      <td>872.97</td>\n",
       "      <td>1920.49</td>\n",
       "      <td>9077.52</td>\n",
       "      <td>-922.48</td>\n",
       "      <td>-9.22</td>\n",
       "    </tr>\n",
       "    <tr>\n",
       "      <th>429</th>\n",
       "      <td>3520.81</td>\n",
       "      <td>2767.97</td>\n",
       "      <td>940.02</td>\n",
       "      <td>1912.78</td>\n",
       "      <td>9141.58</td>\n",
       "      <td>-858.42</td>\n",
       "      <td>-8.58</td>\n",
       "    </tr>\n",
       "    <tr>\n",
       "      <th>424</th>\n",
       "      <td>3696.53</td>\n",
       "      <td>2779.70</td>\n",
       "      <td>929.33</td>\n",
       "      <td>1940.90</td>\n",
       "      <td>9346.46</td>\n",
       "      <td>-653.54</td>\n",
       "      <td>-6.54</td>\n",
       "    </tr>\n",
       "    <tr>\n",
       "      <th>415</th>\n",
       "      <td>3749.44</td>\n",
       "      <td>2860.74</td>\n",
       "      <td>947.29</td>\n",
       "      <td>1952.31</td>\n",
       "      <td>9509.78</td>\n",
       "      <td>-490.22</td>\n",
       "      <td>-4.90</td>\n",
       "    </tr>\n",
       "    <tr>\n",
       "      <th>482</th>\n",
       "      <td>3764.68</td>\n",
       "      <td>2898.86</td>\n",
       "      <td>955.73</td>\n",
       "      <td>1958.43</td>\n",
       "      <td>9577.71</td>\n",
       "      <td>-422.29</td>\n",
       "      <td>-4.22</td>\n",
       "    </tr>\n",
       "    <tr>\n",
       "      <th>...</th>\n",
       "      <td>...</td>\n",
       "      <td>...</td>\n",
       "      <td>...</td>\n",
       "      <td>...</td>\n",
       "      <td>...</td>\n",
       "      <td>...</td>\n",
       "      <td>...</td>\n",
       "    </tr>\n",
       "    <tr>\n",
       "      <th>485</th>\n",
       "      <td>4075.92</td>\n",
       "      <td>3088.10</td>\n",
       "      <td>1036.23</td>\n",
       "      <td>2094.66</td>\n",
       "      <td>10294.91</td>\n",
       "      <td>294.91</td>\n",
       "      <td>2.95</td>\n",
       "    </tr>\n",
       "    <tr>\n",
       "      <th>430</th>\n",
       "      <td>4239.95</td>\n",
       "      <td>3016.26</td>\n",
       "      <td>1029.14</td>\n",
       "      <td>2010.79</td>\n",
       "      <td>10296.14</td>\n",
       "      <td>296.14</td>\n",
       "      <td>2.96</td>\n",
       "    </tr>\n",
       "    <tr>\n",
       "      <th>443</th>\n",
       "      <td>4281.38</td>\n",
       "      <td>2968.02</td>\n",
       "      <td>1042.21</td>\n",
       "      <td>2071.59</td>\n",
       "      <td>10363.19</td>\n",
       "      <td>363.19</td>\n",
       "      <td>3.63</td>\n",
       "    </tr>\n",
       "    <tr>\n",
       "      <th>435</th>\n",
       "      <td>4046.15</td>\n",
       "      <td>3299.22</td>\n",
       "      <td>1048.38</td>\n",
       "      <td>2155.06</td>\n",
       "      <td>10548.81</td>\n",
       "      <td>548.81</td>\n",
       "      <td>5.49</td>\n",
       "    </tr>\n",
       "    <tr>\n",
       "      <th>434</th>\n",
       "      <td>4375.74</td>\n",
       "      <td>3036.15</td>\n",
       "      <td>1091.87</td>\n",
       "      <td>2135.60</td>\n",
       "      <td>10639.36</td>\n",
       "      <td>639.36</td>\n",
       "      <td>6.39</td>\n",
       "    </tr>\n",
       "  </tbody>\n",
       "</table>\n",
       "<p>500 rows × 7 columns</p>\n",
       "</div>"
      ],
      "text/plain": [
       "           S&P500  FTSE100($)  CAC40($)  Nikkei225($)  portfolio value  \\\n",
       "Scenario                                                                 \n",
       "427       3620.34     2663.72    872.97       1920.49          9077.52   \n",
       "429       3520.81     2767.97    940.02       1912.78          9141.58   \n",
       "424       3696.53     2779.70    929.33       1940.90          9346.46   \n",
       "415       3749.44     2860.74    947.29       1952.31          9509.78   \n",
       "482       3764.68     2898.86    955.73       1958.43          9577.71   \n",
       "...           ...         ...       ...           ...              ...   \n",
       "485       4075.92     3088.10   1036.23       2094.66         10294.91   \n",
       "430       4239.95     3016.26   1029.14       2010.79         10296.14   \n",
       "443       4281.38     2968.02   1042.21       2071.59         10363.19   \n",
       "435       4046.15     3299.22   1048.38       2155.06         10548.81   \n",
       "434       4375.74     3036.15   1091.87       2135.60         10639.36   \n",
       "\n",
       "             P/L  P/L(%)  \n",
       "Scenario                  \n",
       "427      -922.48   -9.22  \n",
       "429      -858.42   -8.58  \n",
       "424      -653.54   -6.54  \n",
       "415      -490.22   -4.90  \n",
       "482      -422.29   -4.22  \n",
       "...          ...     ...  \n",
       "485       294.91    2.95  \n",
       "430       296.14    2.96  \n",
       "443       363.19    3.63  \n",
       "435       548.81    5.49  \n",
       "434       639.36    6.39  \n",
       "\n",
       "[500 rows x 7 columns]"
      ]
     },
     "metadata": {},
     "output_type": "display_data"
    },
    {
     "name": "stdout",
     "output_type": "stream",
     "text": [
      "99% 1-day VaR(Value-at-Risk)     =  422.29 $\n",
      "99% 1-day ES(Expected Shortfall) =  669.39 $\n"
     ]
    }
   ],
   "source": [
    "import numpy as np\n",
    "import pandas as pd\n",
    "\n",
    "df = pd.read_excel('historical simulation.xlsx', header=8)\n",
    "df['FTSE100($)'] = df['FTSE 100'] * df['USD/GBP']\n",
    "df['CAC40($)'] = df['CAC40'] / df['EUR/USD']\n",
    "df['Nikkei225($)'] = df['Nikkei 225'] / df['JPY/USD']\n",
    "\n",
    "del df['FTSE 100'], df['CAC40'], df['Nikkei 225']\n",
    "del df['USD/GBP'], df['EUR/USD'], df['JPY/USD']\n",
    "df = df.set_index(['Day', 'Date'])\n",
    "\n",
    "ret = df.pct_change() + 1\n",
    "ret.drop(index=0, inplace=True)\n",
    "ret.index = ret.index.droplevel(1)\n",
    "ret.index.name = 'Scenario'\n",
    "\n",
    "portfolio = np.array([4000, 3000, 1000, 2000])\n",
    "df = ret * portfolio\n",
    "df['portfolio value'] = df.sum(axis=1)\n",
    "df['P/L'] = df['portfolio value'] - 10000\n",
    "df['P/L(%)'] = df['P/L'] / 10000 * 100\n",
    "display(df.sort_values(by='P/L').round(2))\n",
    "\n",
    "profit = df.sort_values(by='P/L')['P/L'].values\n",
    "VaR99 = -profit[4]\n",
    "ES99 = -np.mean(profit[:5])\n",
    "print('99% 1-day VaR(Value-at-Risk)     = ', round(VaR99, 2), '$')\n",
    "print('99% 1-day ES(Expected Shortfall) = ', round(ES99, 2), '$')"
   ]
  },
  {
   "cell_type": "code",
   "execution_count": null,
   "id": "5fea91e5",
   "metadata": {},
   "outputs": [],
   "source": []
  }
 ],
 "metadata": {
  "kernelspec": {
   "display_name": "Python 3 (ipykernel)",
   "language": "python",
   "name": "python3"
  },
  "language_info": {
   "codemirror_mode": {
    "name": "ipython",
    "version": 3
   },
   "file_extension": ".py",
   "mimetype": "text/x-python",
   "name": "python",
   "nbconvert_exporter": "python",
   "pygments_lexer": "ipython3",
   "version": "3.9.7"
  }
 },
 "nbformat": 4,
 "nbformat_minor": 5
}
